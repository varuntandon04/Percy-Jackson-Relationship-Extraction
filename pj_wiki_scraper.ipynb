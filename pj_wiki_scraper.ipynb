{
 "cells": [
  {
   "cell_type": "code",
   "execution_count": 1,
   "id": "accbf324",
   "metadata": {},
   "outputs": [],
   "source": [
    "import pandas as pd\n",
    "import time\n",
    "from selenium import webdriver\n",
    "from selenium.webdriver.common.by import By\n",
    "from webdriver_manager.chrome import ChromeDriverManager \n",
    "import matplotlib.pyplot as plt\n"
   ]
  },
  {
   "cell_type": "code",
   "execution_count": 2,
   "id": "d8a6f801",
   "metadata": {},
   "outputs": [
    {
     "name": "stdout",
     "output_type": "stream",
     "text": [
      "\n"
     ]
    },
    {
     "name": "stderr",
     "output_type": "stream",
     "text": [
      "[WDM] - ====== WebDriver manager ======\n",
      "[WDM] - Current google-chrome version is 103.0.5060\n",
      "[WDM] - Get LATEST chromedriver version for 103.0.5060 google-chrome\n",
      "[WDM] - About to download new driver from https://chromedriver.storage.googleapis.com/103.0.5060.53/chromedriver_win32.zip\n",
      "[WDM] - Driver has been saved in cache [C:\\Users\\varun\\.wdm\\drivers\\chromedriver\\win32\\103.0.5060.53]\n",
      "C:\\Users\\varun\\AppData\\Local\\Temp\\ipykernel_5220\\1503906442.py:1: DeprecationWarning: executable_path has been deprecated, please pass in a Service object\n",
      "  driver = webdriver.Chrome(ChromeDriverManager().install())\n"
     ]
    }
   ],
   "source": [
    "driver = webdriver.Chrome(ChromeDriverManager().install())"
   ]
  },
  {
   "cell_type": "code",
   "execution_count": 3,
   "id": "e6c03766",
   "metadata": {},
   "outputs": [],
   "source": [
    "page_url = 'https://riordan.fandom.com/wiki/Category:Percy_Jackson_and_the_Olympians_characters'\n",
    "driver.get(page_url)"
   ]
  },
  {
   "cell_type": "code",
   "execution_count": 4,
   "id": "fd198e6d",
   "metadata": {},
   "outputs": [],
   "source": [
    "book_categories = driver.find_elements(By.CLASS_NAME, 'category-page__member-link')"
   ]
  },
  {
   "cell_type": "code",
   "execution_count": 5,
   "id": "65669198",
   "metadata": {},
   "outputs": [
    {
     "name": "stdout",
     "output_type": "stream",
     "text": [
      "Category:The Lightning Thief characters\n",
      "Category:The Sea of Monsters characters\n",
      "Category:The Titan's Curse characters\n",
      "Category:The Battle of the Labyrinth characters\n",
      "Category:The Last Olympian characters\n",
      "Category:Animals\n",
      "Category:Characters\n",
      "Category:Heroes (CHB)\n",
      "Category:Historic Demigods (CHB)\n",
      "Category:P.O.V. Characters\n",
      "Category:The Demigod Files characters\n",
      "Category:Virgin Goddesses (Greek)\n"
     ]
    }
   ],
   "source": [
    "for i in range(0, len(book_categories)):\n",
    "    print(book_categories[i].text)"
   ]
  },
  {
   "cell_type": "code",
   "execution_count": 6,
   "id": "28980a0a",
   "metadata": {},
   "outputs": [
    {
     "name": "stdout",
     "output_type": "stream",
     "text": [
      "Category:The Lightning Thief characters\n",
      "Category:The Sea of Monsters characters\n",
      "Category:The Titan's Curse characters\n",
      "Category:The Battle of the Labyrinth characters\n",
      "Category:The Last Olympian characters\n"
     ]
    }
   ],
   "source": [
    "#we only need the first 5 categories.\n",
    "\n",
    "del book_categories[-7:]\n",
    "\n",
    "for i in range(0, len(book_categories)):\n",
    "    print(book_categories[i].text)"
   ]
  },
  {
   "cell_type": "code",
   "execution_count": 7,
   "id": "3033b4f1",
   "metadata": {},
   "outputs": [
    {
     "data": {
      "text/plain": [
       "'https://riordan.fandom.com/wiki/Category:The_Lightning_Thief_characters'"
      ]
     },
     "execution_count": 7,
     "metadata": {},
     "output_type": "execute_result"
    }
   ],
   "source": [
    "#let us get the characters from the first book\n",
    "\n",
    "book_categories[0].get_attribute('href')"
   ]
  },
  {
   "cell_type": "code",
   "execution_count": 8,
   "id": "a3a5b804",
   "metadata": {},
   "outputs": [],
   "source": [
    "driver.get(book_categories[0].get_attribute('href'))"
   ]
  },
  {
   "cell_type": "code",
   "execution_count": 9,
   "id": "5b85feb7",
   "metadata": {},
   "outputs": [],
   "source": [
    "character_elements = driver.find_elements(By.CLASS_NAME, 'category-page__member-link')"
   ]
  },
  {
   "cell_type": "code",
   "execution_count": 10,
   "id": "f06b736a",
   "metadata": {},
   "outputs": [
    {
     "data": {
      "text/plain": [
       "'Alecto'"
      ]
     },
     "execution_count": 10,
     "metadata": {},
     "output_type": "execute_result"
    }
   ],
   "source": [
    "character_elements[0].text"
   ]
  },
  {
   "cell_type": "markdown",
   "id": "31598495",
   "metadata": {},
   "source": [
    "We now know how to get to a book and how to get the characters in each book. Let us do it for all five books."
   ]
  },
  {
   "cell_type": "code",
   "execution_count": 11,
   "id": "58fa3683",
   "metadata": {},
   "outputs": [
    {
     "name": "stdout",
     "output_type": "stream",
     "text": [
      "\n"
     ]
    },
    {
     "name": "stderr",
     "output_type": "stream",
     "text": [
      "[WDM] - ====== WebDriver manager ======\n",
      "[WDM] - Current google-chrome version is 103.0.5060\n",
      "[WDM] - Get LATEST chromedriver version for 103.0.5060 google-chrome\n",
      "[WDM] - Driver [C:\\Users\\varun\\.wdm\\drivers\\chromedriver\\win32\\103.0.5060.53\\chromedriver.exe] found in cache\n",
      "C:\\Users\\varun\\AppData\\Local\\Temp\\ipykernel_5220\\2832226880.py:1: DeprecationWarning: executable_path has been deprecated, please pass in a Service object\n",
      "  driver = webdriver.Chrome(ChromeDriverManager().install())\n"
     ]
    }
   ],
   "source": [
    "driver = webdriver.Chrome(ChromeDriverManager().install())\n",
    "\n",
    "page_url = 'https://riordan.fandom.com/wiki/Category:Percy_Jackson_and_the_Olympians_characters'\n",
    "driver.get(page_url)\n",
    "\n",
    "book_categories = driver.find_elements(By.CLASS_NAME, 'category-page__member-link')\n",
    "\n",
    "del book_categories[-7:]\n",
    "\n",
    "books=[]\n",
    "\n",
    "for category in book_categories:\n",
    "    book_url = category.get_attribute('href')\n",
    "    book_name = category.text\n",
    "    books.append({'book_name' : book_name, 'url' : book_url})"
   ]
  },
  {
   "cell_type": "code",
   "execution_count": 12,
   "id": "1b5258e4",
   "metadata": {},
   "outputs": [
    {
     "data": {
      "text/plain": [
       "[{'book_name': 'Category:The Lightning Thief characters',\n",
       "  'url': 'https://riordan.fandom.com/wiki/Category:The_Lightning_Thief_characters'},\n",
       " {'book_name': 'Category:The Sea of Monsters characters',\n",
       "  'url': 'https://riordan.fandom.com/wiki/Category:The_Sea_of_Monsters_characters'},\n",
       " {'book_name': \"Category:The Titan's Curse characters\",\n",
       "  'url': 'https://riordan.fandom.com/wiki/Category:The_Titan%27s_Curse_characters'},\n",
       " {'book_name': 'Category:The Battle of the Labyrinth characters',\n",
       "  'url': 'https://riordan.fandom.com/wiki/Category:The_Battle_of_the_Labyrinth_characters'},\n",
       " {'book_name': 'Category:The Last Olympian characters',\n",
       "  'url': 'https://riordan.fandom.com/wiki/Category:The_Last_Olympian_characters'}]"
      ]
     },
     "execution_count": 12,
     "metadata": {},
     "output_type": "execute_result"
    }
   ],
   "source": [
    "books"
   ]
  },
  {
   "cell_type": "code",
   "execution_count": 13,
   "id": "8889d183",
   "metadata": {},
   "outputs": [],
   "source": [
    "characters = []\n",
    "\n",
    "for book in books:\n",
    "    \n",
    "    driver.get(book['url'])\n",
    "    character_elements = driver.find_elements(By.CLASS_NAME, 'category-page__member-link')\n",
    "    \n",
    "    for element in character_elements:\n",
    "        characters.append({'book' : book['book_name'], 'character' : element.text})"
   ]
  },
  {
   "cell_type": "code",
   "execution_count": 14,
   "id": "7aee8909",
   "metadata": {},
   "outputs": [
    {
     "data": {
      "text/html": [
       "<div>\n",
       "<style scoped>\n",
       "    .dataframe tbody tr th:only-of-type {\n",
       "        vertical-align: middle;\n",
       "    }\n",
       "\n",
       "    .dataframe tbody tr th {\n",
       "        vertical-align: top;\n",
       "    }\n",
       "\n",
       "    .dataframe thead th {\n",
       "        text-align: right;\n",
       "    }\n",
       "</style>\n",
       "<table border=\"1\" class=\"dataframe\">\n",
       "  <thead>\n",
       "    <tr style=\"text-align: right;\">\n",
       "      <th></th>\n",
       "      <th>book</th>\n",
       "      <th>character</th>\n",
       "    </tr>\n",
       "  </thead>\n",
       "  <tbody>\n",
       "    <tr>\n",
       "      <th>0</th>\n",
       "      <td>Category:The Lightning Thief characters</td>\n",
       "      <td>Alecto</td>\n",
       "    </tr>\n",
       "    <tr>\n",
       "      <th>1</th>\n",
       "      <td>Category:The Lightning Thief characters</td>\n",
       "      <td>Annabeth Chase</td>\n",
       "    </tr>\n",
       "    <tr>\n",
       "      <th>2</th>\n",
       "      <td>Category:The Lightning Thief characters</td>\n",
       "      <td>Ares</td>\n",
       "    </tr>\n",
       "    <tr>\n",
       "      <th>3</th>\n",
       "      <td>Category:The Lightning Thief characters</td>\n",
       "      <td>Argus</td>\n",
       "    </tr>\n",
       "    <tr>\n",
       "      <th>4</th>\n",
       "      <td>Category:The Lightning Thief characters</td>\n",
       "      <td>Barbara Walters</td>\n",
       "    </tr>\n",
       "    <tr>\n",
       "      <th>...</th>\n",
       "      <td>...</td>\n",
       "      <td>...</td>\n",
       "    </tr>\n",
       "    <tr>\n",
       "      <th>432</th>\n",
       "      <td>Category:The Last Olympian characters</td>\n",
       "      <td>Triton</td>\n",
       "    </tr>\n",
       "    <tr>\n",
       "      <th>433</th>\n",
       "      <td>Category:The Last Olympian characters</td>\n",
       "      <td>Typhon</td>\n",
       "    </tr>\n",
       "    <tr>\n",
       "      <th>434</th>\n",
       "      <td>Category:The Last Olympian characters</td>\n",
       "      <td>Tyson</td>\n",
       "    </tr>\n",
       "    <tr>\n",
       "      <th>435</th>\n",
       "      <td>Category:The Last Olympian characters</td>\n",
       "      <td>William H. Seward's Statue</td>\n",
       "    </tr>\n",
       "    <tr>\n",
       "      <th>436</th>\n",
       "      <td>Category:The Last Olympian characters</td>\n",
       "      <td>Zeus</td>\n",
       "    </tr>\n",
       "  </tbody>\n",
       "</table>\n",
       "<p>437 rows × 2 columns</p>\n",
       "</div>"
      ],
      "text/plain": [
       "                                        book                   character\n",
       "0    Category:The Lightning Thief characters                      Alecto\n",
       "1    Category:The Lightning Thief characters              Annabeth Chase\n",
       "2    Category:The Lightning Thief characters                        Ares\n",
       "3    Category:The Lightning Thief characters                       Argus\n",
       "4    Category:The Lightning Thief characters             Barbara Walters\n",
       "..                                       ...                         ...\n",
       "432    Category:The Last Olympian characters                      Triton\n",
       "433    Category:The Last Olympian characters                      Typhon\n",
       "434    Category:The Last Olympian characters                       Tyson\n",
       "435    Category:The Last Olympian characters  William H. Seward's Statue\n",
       "436    Category:The Last Olympian characters                        Zeus\n",
       "\n",
       "[437 rows x 2 columns]"
      ]
     },
     "execution_count": 14,
     "metadata": {},
     "output_type": "execute_result"
    }
   ],
   "source": [
    "character_df = pd.DataFrame(characters)\n",
    "character_df"
   ]
  },
  {
   "cell_type": "code",
   "execution_count": 15,
   "id": "5daa0293",
   "metadata": {},
   "outputs": [
    {
     "data": {
      "image/png": "[encoded data removed]",
      "text/plain": [
       "<Figure size 432x288 with 1 Axes>"
      ]
     },
     "metadata": {
      "needs_background": "light"
     },
     "output_type": "display_data"
    }
   ],
   "source": [
    "character_df['book'].value_counts().plot(kind='bar')\n",
    "plt.title('Count of characters per book')\n",
    "plt.show()"
   ]
  },
  {
   "cell_type": "markdown",
   "id": "6d5b2503",
   "metadata": {},
   "source": [
    "Here we see that the maximum number of characters are present in the later books."
   ]
  },
  {
   "cell_type": "code",
   "execution_count": 16,
   "id": "5df16424",
   "metadata": {},
   "outputs": [],
   "source": [
    "character_df.to_csv('Books/characters.csv')"
   ]
  }
 ],
 "metadata": {
  "kernelspec": {
   "display_name": "Python 3 (ipykernel)",
   "language": "python",
   "name": "python3"
  },
  "language_info": {
   "codemirror_mode": {
    "name": "ipython",
    "version": 3
   },
   "file_extension": ".py",
   "mimetype": "text/x-python",
   "name": "python",
   "nbconvert_exporter": "python",
   "pygments_lexer": "ipython3",
   "version": "3.9.12"
  }
 },
 "nbformat": 4,
 "nbformat_minor": 5
}
