{
 "cells": [
  {
   "cell_type": "markdown",
   "id": "eae155b0",
   "metadata": {},
   "source": [
    "## Setup"
   ]
  },
  {
   "cell_type": "code",
   "execution_count": 1,
   "id": "cc5b9623",
   "metadata": {},
   "outputs": [],
   "source": [
    "import os\n",
    "import pandas as pd\n",
    "import numpy as np\n",
    "import spacy\n",
    "from spacy import displacy\n",
    "import networkx as nx\n",
    "from pyvis.network import Network\n",
    "import matplotlib.pyplot as plt\n",
    "import re\n",
    "from community import community_louvain"
   ]
  },
  {
   "cell_type": "code",
   "execution_count": 2,
   "id": "a3ba75ef",
   "metadata": {
    "tags": [
     "hide-input"
    ]
   },
   "outputs": [
    {
     "name": "stdout",
     "output_type": "stream",
     "text": [
      "Collecting en-core-web-sm==3.3.0\n",
      "  Downloading https://github.com/explosion/spacy-models/releases/download/en_core_web_sm-3.3.0/en_core_web_sm-3.3.0-py3-none-any.whl (12.8 MB)\n",
      "Requirement already satisfied: spacy<3.4.0,>=3.3.0.dev0 in c:\\users\\varun\\anaconda3\\envs\\got_wiki_scraping_env\\lib\\site-packages (from en-core-web-sm==3.3.0) (3.3.1)\n",
      "Requirement already satisfied: catalogue<2.1.0,>=2.0.6 in c:\\users\\varun\\anaconda3\\envs\\got_wiki_scraping_env\\lib\\site-packages (from spacy<3.4.0,>=3.3.0.dev0->en-core-web-sm==3.3.0) (2.0.7)\n",
      "Requirement already satisfied: requests<3.0.0,>=2.13.0 in c:\\users\\varun\\anaconda3\\envs\\got_wiki_scraping_env\\lib\\site-packages (from spacy<3.4.0,>=3.3.0.dev0->en-core-web-sm==3.3.0) (2.28.1)\n",
      "Requirement already satisfied: blis<0.8.0,>=0.4.0 in c:\\users\\varun\\anaconda3\\envs\\got_wiki_scraping_env\\lib\\site-packages (from spacy<3.4.0,>=3.3.0.dev0->en-core-web-sm==3.3.0) (0.7.8)\n",
      "Requirement already satisfied: srsly<3.0.0,>=2.4.3 in c:\\users\\varun\\anaconda3\\envs\\got_wiki_scraping_env\\lib\\site-packages (from spacy<3.4.0,>=3.3.0.dev0->en-core-web-sm==3.3.0) (2.4.3)\n",
      "Requirement already satisfied: spacy-legacy<3.1.0,>=3.0.9 in c:\\users\\varun\\anaconda3\\envs\\got_wiki_scraping_env\\lib\\site-packages (from spacy<3.4.0,>=3.3.0.dev0->en-core-web-sm==3.3.0) (3.0.9)\n",
      "Requirement already satisfied: packaging>=20.0 in c:\\users\\varun\\anaconda3\\envs\\got_wiki_scraping_env\\lib\\site-packages (from spacy<3.4.0,>=3.3.0.dev0->en-core-web-sm==3.3.0) (21.3)\n",
      "Requirement already satisfied: jinja2 in c:\\users\\varun\\anaconda3\\envs\\got_wiki_scraping_env\\lib\\site-packages (from spacy<3.4.0,>=3.3.0.dev0->en-core-web-sm==3.3.0) (3.1.2)\n",
      "Requirement already satisfied: murmurhash<1.1.0,>=0.28.0 in c:\\users\\varun\\anaconda3\\envs\\got_wiki_scraping_env\\lib\\site-packages (from spacy<3.4.0,>=3.3.0.dev0->en-core-web-sm==3.3.0) (1.0.7)\n",
      "Requirement already satisfied: pydantic!=1.8,!=1.8.1,<1.9.0,>=1.7.4 in c:\\users\\varun\\anaconda3\\envs\\got_wiki_scraping_env\\lib\\site-packages (from spacy<3.4.0,>=3.3.0.dev0->en-core-web-sm==3.3.0) (1.8.2)\n",
      "Requirement already satisfied: setuptools in c:\\users\\varun\\anaconda3\\envs\\got_wiki_scraping_env\\lib\\site-packages (from spacy<3.4.0,>=3.3.0.dev0->en-core-web-sm==3.3.0) (61.2.0)\n",
      "Requirement already satisfied: spacy-loggers<2.0.0,>=1.0.0 in c:\\users\\varun\\anaconda3\\envs\\got_wiki_scraping_env\\lib\\site-packages (from spacy<3.4.0,>=3.3.0.dev0->en-core-web-sm==3.3.0) (1.0.2)\n",
      "Requirement already satisfied: pathy>=0.3.5 in c:\\users\\varun\\anaconda3\\envs\\got_wiki_scraping_env\\lib\\site-packages (from spacy<3.4.0,>=3.3.0.dev0->en-core-web-sm==3.3.0) (0.6.2)\n",
      "Requirement already satisfied: thinc<8.1.0,>=8.0.14 in c:\\users\\varun\\anaconda3\\envs\\got_wiki_scraping_env\\lib\\site-packages (from spacy<3.4.0,>=3.3.0.dev0->en-core-web-sm==3.3.0) (8.0.17)\n",
      "Requirement already satisfied: cymem<2.1.0,>=2.0.2 in c:\\users\\varun\\anaconda3\\envs\\got_wiki_scraping_env\\lib\\site-packages (from spacy<3.4.0,>=3.3.0.dev0->en-core-web-sm==3.3.0) (2.0.6)\n",
      "Requirement already satisfied: tqdm<5.0.0,>=4.38.0 in c:\\users\\varun\\anaconda3\\envs\\got_wiki_scraping_env\\lib\\site-packages (from spacy<3.4.0,>=3.3.0.dev0->en-core-web-sm==3.3.0) (4.64.0)\n",
      "Requirement already satisfied: langcodes<4.0.0,>=3.2.0 in c:\\users\\varun\\anaconda3\\envs\\got_wiki_scraping_env\\lib\\site-packages (from spacy<3.4.0,>=3.3.0.dev0->en-core-web-sm==3.3.0) (3.3.0)\n",
      "Requirement already satisfied: wasabi<1.1.0,>=0.9.1 in c:\\users\\varun\\anaconda3\\envs\\got_wiki_scraping_env\\lib\\site-packages (from spacy<3.4.0,>=3.3.0.dev0->en-core-web-sm==3.3.0) (0.9.1)\n",
      "Requirement already satisfied: numpy>=1.15.0 in c:\\users\\varun\\anaconda3\\envs\\got_wiki_scraping_env\\lib\\site-packages (from spacy<3.4.0,>=3.3.0.dev0->en-core-web-sm==3.3.0) (1.23.0)\n",
      "Requirement already satisfied: preshed<3.1.0,>=3.0.2 in c:\\users\\varun\\anaconda3\\envs\\got_wiki_scraping_env\\lib\\site-packages (from spacy<3.4.0,>=3.3.0.dev0->en-core-web-sm==3.3.0) (3.0.6)\n",
      "Requirement already satisfied: typer<0.5.0,>=0.3.0 in c:\\users\\varun\\anaconda3\\envs\\got_wiki_scraping_env\\lib\\site-packages (from spacy<3.4.0,>=3.3.0.dev0->en-core-web-sm==3.3.0) (0.4.2)\n",
      "Requirement already satisfied: pyparsing!=3.0.5,>=2.0.2 in c:\\users\\varun\\anaconda3\\envs\\got_wiki_scraping_env\\lib\\site-packages (from packaging>=20.0->spacy<3.4.0,>=3.3.0.dev0->en-core-web-sm==3.3.0) (3.0.9)\n",
      "Requirement already satisfied: smart-open<6.0.0,>=5.2.1 in c:\\users\\varun\\anaconda3\\envs\\got_wiki_scraping_env\\lib\\site-packages (from pathy>=0.3.5->spacy<3.4.0,>=3.3.0.dev0->en-core-web-sm==3.3.0) (5.2.1)\n",
      "Requirement already satisfied: typing-extensions>=3.7.4.3 in c:\\users\\varun\\anaconda3\\envs\\got_wiki_scraping_env\\lib\\site-packages (from pydantic!=1.8,!=1.8.1,<1.9.0,>=1.7.4->spacy<3.4.0,>=3.3.0.dev0->en-core-web-sm==3.3.0) (4.1.1)\n",
      "Requirement already satisfied: certifi>=2017.4.17 in c:\\users\\varun\\anaconda3\\envs\\got_wiki_scraping_env\\lib\\site-packages (from requests<3.0.0,>=2.13.0->spacy<3.4.0,>=3.3.0.dev0->en-core-web-sm==3.3.0) (2022.6.15)\n",
      "Requirement already satisfied: urllib3<1.27,>=1.21.1 in c:\\users\\varun\\anaconda3\\envs\\got_wiki_scraping_env\\lib\\site-packages (from requests<3.0.0,>=2.13.0->spacy<3.4.0,>=3.3.0.dev0->en-core-web-sm==3.3.0) (1.26.9)\n",
      "Requirement already satisfied: charset-normalizer<3,>=2 in c:\\users\\varun\\anaconda3\\envs\\got_wiki_scraping_env\\lib\\site-packages (from requests<3.0.0,>=2.13.0->spacy<3.4.0,>=3.3.0.dev0->en-core-web-sm==3.3.0) (2.1.0)\n",
      "Requirement already satisfied: idna<4,>=2.5 in c:\\users\\varun\\anaconda3\\envs\\got_wiki_scraping_env\\lib\\site-packages (from requests<3.0.0,>=2.13.0->spacy<3.4.0,>=3.3.0.dev0->en-core-web-sm==3.3.0) (3.3)\n",
      "Requirement already satisfied: colorama in c:\\users\\varun\\anaconda3\\envs\\got_wiki_scraping_env\\lib\\site-packages (from tqdm<5.0.0,>=4.38.0->spacy<3.4.0,>=3.3.0.dev0->en-core-web-sm==3.3.0) (0.4.5)\n",
      "Requirement already satisfied: click<9.0.0,>=7.1.1 in c:\\users\\varun\\anaconda3\\envs\\got_wiki_scraping_env\\lib\\site-packages (from typer<0.5.0,>=0.3.0->spacy<3.4.0,>=3.3.0.dev0->en-core-web-sm==3.3.0) (8.1.3)\n",
      "Requirement already satisfied: MarkupSafe>=2.0 in c:\\users\\varun\\anaconda3\\envs\\got_wiki_scraping_env\\lib\\site-packages (from jinja2->spacy<3.4.0,>=3.3.0.dev0->en-core-web-sm==3.3.0) (2.1.1)\n",
      "[+] Download and installation successful\n",
      "You can now load the package via spacy.load('en_core_web_sm')\n"
     ]
    }
   ],
   "source": [
    "#importing english language module for spacy\n",
    "\n",
    "!python -m spacy download en_core_web_sm"
   ]
  },
  {
   "cell_type": "markdown",
   "id": "bcaecc56",
   "metadata": {},
   "source": [
    "We shall be using Spacy's 'en_core_web_sm' model for our entity recognition for all the entities present in the five Percy Jackson books."
   ]
  },
  {
   "cell_type": "code",
   "execution_count": 3,
   "id": "61481538",
   "metadata": {},
   "outputs": [],
   "source": [
    "#Named Entity Recognition Model\n",
    "\n",
    "NER = spacy.load('en_core_web_sm')"
   ]
  },
  {
   "cell_type": "markdown",
   "id": "086e8769",
   "metadata": {},
   "source": [
    "## Functions"
   ]
  },
  {
   "cell_type": "code",
   "execution_count": 4,
   "id": "6f51ccae",
   "metadata": {},
   "outputs": [],
   "source": [
    "#function to create a document to store the output of the NER model\n",
    "\n",
    "def create_book_doc(all_books, i):\n",
    "    \n",
    "    book = all_books[i]\n",
    "    book_text = open(book, encoding=\"mbcs\").read()\n",
    "    book_doc = NER(book_text)\n",
    "    return book_doc"
   ]
  },
  {
   "cell_type": "code",
   "execution_count": 5,
   "id": "00adf966",
   "metadata": {},
   "outputs": [],
   "source": [
    "#function to filter named entities from entity_list\n",
    "\n",
    "def filter_entity(entity_list, character_df):\n",
    "    return [entity for entity in entity_list\n",
    "            if entity in list(character_df.character)\n",
    "            or entity in list(character_df.character_firstname)]\n",
    "            "
   ]
  },
  {
   "cell_type": "code",
   "execution_count": 6,
   "id": "60561859",
   "metadata": {},
   "outputs": [],
   "source": [
    "#function to create entity_list and return a dataframe of entity_list for each sentence in a book\n",
    "\n",
    "def create_sentence_entity_df(book_doc): \n",
    "    \n",
    "    #create a df with the sentences and entities per sentence in a book\n",
    "    sentence_entity_df = []\n",
    "\n",
    "    for sentence in book_doc.sents:\n",
    "        entity_list = [entity.text for entity in sentence.ents]\n",
    "        sentence_entity_df.append({'sentence': sentence, 'entities': entity_list})\n",
    "        \n",
    "    sentence_entity_df = pd.DataFrame(sentence_entity_df)\n",
    "\n",
    "    \n",
    "    #filter out only the named entities from entity_list\n",
    "    sentence_entity_df['character_entities'] = sentence_entity_df['entities'].apply(lambda x: filter_entity(x, character_df))\n",
    "        \n",
    "    #filter out empty entities\n",
    "    sentence_entity_df = sentence_entity_df[sentence_entity_df['character_entities'].map(len) > 0]\n",
    "    \n",
    "    #convert a fullname to firstname only\n",
    "    sentence_entity_df['character_entities'] = sentence_entity_df['character_entities'].apply(\n",
    "                                                    lambda x: [item.split()[0] for item in x])\n",
    "    \n",
    "    return sentence_entity_df"
   ]
  },
  {
   "cell_type": "code",
   "execution_count": 7,
   "id": "29477a56",
   "metadata": {},
   "outputs": [],
   "source": [
    "#function to create relationships between entities \n",
    "\n",
    "def create_relationship_df(sentence_entity_df_filtered):\n",
    "\n",
    "    window_size = 5\n",
    "    character_list = []\n",
    "    relationships = []\n",
    "\n",
    "    for i in range(0, sentence_entity_df_filtered.index[-1]):\n",
    "        end_i = min(i + 5, sentence_entity_df_filtered.index[-1])\n",
    "        character_list = sum((sentence_entity_df_filtered.loc[i: end_i].character_entities), [])\n",
    "\n",
    "        character_list_unique = [character_list[i] for i in range(len(character_list))\n",
    "                                 if(i==0) or character_list[i] != character_list[i-1]]\n",
    "\n",
    "        #now let us create the source and target of the relationships\n",
    "\n",
    "        if len(character_list_unique) > 1:\n",
    "            for idx, a in enumerate(character_list_unique[:-1]):\n",
    "                b = character_list_unique[idx + 1]\n",
    "                relationships.append({'source': a, 'target': b})\n",
    "               \n",
    "    relationship_df = pd.DataFrame(relationships)\n",
    "    \n",
    "    return relationship_df"
   ]
  },
  {
   "cell_type": "code",
   "execution_count": 8,
   "id": "73b4ff5c",
   "metadata": {},
   "outputs": [],
   "source": [
    "#function to create an edgelist dataframe\n",
    "\n",
    "def create_edgelist(relationship_df):\n",
    "    \n",
    "    #change reversed relations i.e. b->a to a->b\n",
    "    relationship_df = pd.DataFrame(np.sort(relationship_df.values, axis=1), \n",
    "                                          columns = relationship_df.columns)\n",
    "    \n",
    "    #adding edge weights\n",
    "    relationship_df['value'] = 1\n",
    "    relationship_df = relationship_df.groupby(['source', 'target'], sort=False, as_index=False).sum()\n",
    "    \n",
    "    return relationship_df"
   ]
  },
  {
   "cell_type": "code",
   "execution_count": 9,
   "id": "7fc0e323",
   "metadata": {},
   "outputs": [],
   "source": [
    "#function to create a graph visualization\n",
    "\n",
    "def create_community_graph(relationship_df, i):\n",
    "    \n",
    "    G = nx.from_pandas_edgelist(relationship_df,\n",
    "                            source = 'source',\n",
    "                            target = 'target',\n",
    "                            edge_attr = 'value',\n",
    "                            create_using = nx.Graph())\n",
    "    \n",
    "    #store degree of each node as an attribute for size\n",
    "    node_degree = dict(G.degree)\n",
    "    nx.set_node_attributes(G, node_degree, 'size')\n",
    "    \n",
    "    #create communities\n",
    "    communities = community_louvain.best_partition(G, random_state=99)\n",
    "    nx.set_node_attributes(G, communities, 'group')\n",
    "    \n",
    "    #display and save the graph visualization\n",
    "    community_network = Network(notebook = True, width = '1000px', height = '700px', bgcolor = '#222222', font_color = 'white')\n",
    "    community_network.from_nx(G)\n",
    "    community_network.save_graph(f'Graphs/Community_relationships_{i}.html')\n",
    "#     community_network.show(f'Community_relationships_{i}.html')\n",
    "    \n",
    "    return community_network, G\n",
    "    "
   ]
  },
  {
   "cell_type": "markdown",
   "id": "f0009eac",
   "metadata": {},
   "source": [
    "## Reading the books"
   ]
  },
  {
   "cell_type": "markdown",
   "id": "0f93fbe9",
   "metadata": {},
   "source": [
    "We need to read through each of the books and store data about the entities in each sentence of the book. For now, let us work with the first book, i.e. Book 1 The Lightning Thief."
   ]
  },
  {
   "cell_type": "code",
   "execution_count": 10,
   "id": "70ae3dbf",
   "metadata": {},
   "outputs": [],
   "source": [
    "all_books = [b for b in os.scandir('Books') if '.txt' in b.name]"
   ]
  },
  {
   "cell_type": "code",
   "execution_count": 11,
   "id": "c76273eb",
   "metadata": {},
   "outputs": [
    {
     "data": {
      "text/plain": [
       "[<DirEntry 'Book 1 The Lightning Thief.txt'>,\n",
       " <DirEntry 'Book 2 Sea of Monsters.txt'>,\n",
       " <DirEntry \"Book 3 The Titan's Curse.txt\">,\n",
       " <DirEntry 'Book 4 The Battle of the Labyrinth.txt'>,\n",
       " <DirEntry 'Book 5 The Last Olympian.txt'>]"
      ]
     },
     "execution_count": 11,
     "metadata": {},
     "output_type": "execute_result"
    }
   ],
   "source": [
    "all_books"
   ]
  },
  {
   "cell_type": "markdown",
   "id": "0ff6eff9",
   "metadata": {},
   "source": [
    "## Book 1"
   ]
  },
  {
   "cell_type": "markdown",
   "id": "556176aa",
   "metadata": {},
   "source": [
    "For the demonstration of the graph building and its visualization, let us only work with Book 1. \n",
    "Let us try out our NER model on it."
   ]
  },
  {
   "cell_type": "code",
   "execution_count": 12,
   "id": "1d3b2d34",
   "metadata": {},
   "outputs": [],
   "source": [
    "book_1 = all_books[0]\n",
    "book_text_1 = open(book_1, encoding=\"mbcs\").read()\n",
    "book_doc_1 = NER(book_text_1)"
   ]
  },
  {
   "cell_type": "markdown",
   "id": "ec82c5d8",
   "metadata": {},
   "source": [
    "Now let us visualize the entities that were identified."
   ]
  },
  {
   "cell_type": "code",
   "execution_count": 13,
   "id": "b30aa193",
   "metadata": {},
   "outputs": [
    {
     "data": {
      "text/html": [
       "<span class=\"tex2jax_ignore\"><div class=\"entities\" style=\"line-height: 2.5; direction: ltr\">My name is \n",
       "<mark class=\"entity\" style=\"background: #aa9cfc; padding: 0.45em 0.6em; margin: 0 0.25em; line-height: 1; border-radius: 0.35em;\">\n",
       "    Percy Jackson\n",
       "    <span style=\"font-size: 0.8em; font-weight: bold; line-height: 1; border-radius: 0.35em; vertical-align: middle; margin-left: 0.5rem\">PERSON</span>\n",
       "</mark>\n",
       ". </br></br>I'm \n",
       "<mark class=\"entity\" style=\"background: #bfe1d9; padding: 0.45em 0.6em; margin: 0 0.25em; line-height: 1; border-radius: 0.35em;\">\n",
       "    twelve years old\n",
       "    <span style=\"font-size: 0.8em; font-weight: bold; line-height: 1; border-radius: 0.35em; vertical-align: middle; margin-left: 0.5rem\">DATE</span>\n",
       "</mark>\n",
       ". Until \n",
       "<mark class=\"entity\" style=\"background: #bfe1d9; padding: 0.45em 0.6em; margin: 0 0.25em; line-height: 1; border-radius: 0.35em;\">\n",
       "    a few months ago\n",
       "    <span style=\"font-size: 0.8em; font-weight: bold; line-height: 1; border-radius: 0.35em; vertical-align: middle; margin-left: 0.5rem\">DATE</span>\n",
       "</mark>\n",
       ", I was a </br>boarding student at \n",
       "<mark class=\"entity\" style=\"background: #7aecec; padding: 0.45em 0.6em; margin: 0 0.25em; line-height: 1; border-radius: 0.35em;\">\n",
       "    Yancy Academy\n",
       "    <span style=\"font-size: 0.8em; font-weight: bold; line-height: 1; border-radius: 0.35em; vertical-align: middle; margin-left: 0.5rem\">ORG</span>\n",
       "</mark>\n",
       ", a private school for </br>troubled kids in upstate \n",
       "<mark class=\"entity\" style=\"background: #feca74; padding: 0.45em 0.6em; margin: 0 0.25em; line-height: 1; border-radius: 0.35em;\">\n",
       "    New York\n",
       "    <span style=\"font-size: 0.8em; font-weight: bold; line-height: 1; border-radius: 0.35em; vertical-align: middle; margin-left: 0.5rem\">GPE</span>\n",
       "</mark>\n",
       ". </br></br></div></span>"
      ],
      "text/plain": [
       "<IPython.core.display.HTML object>"
      ]
     },
     "metadata": {},
     "output_type": "display_data"
    }
   ],
   "source": [
    "displacy.render(book_doc_1[598:640], style='ent', jupyter=True)"
   ]
  },
  {
   "cell_type": "markdown",
   "id": "717f74e9",
   "metadata": {},
   "source": [
    "As we can see, the model labelled most of the entities accurately. Now let us load the characters we scraped from the wiki."
   ]
  },
  {
   "cell_type": "code",
   "execution_count": 14,
   "id": "2205fc14",
   "metadata": {},
   "outputs": [
    {
     "data": {
      "text/html": [
       "<div>\n",
       "<style scoped>\n",
       "    .dataframe tbody tr th:only-of-type {\n",
       "        vertical-align: middle;\n",
       "    }\n",
       "\n",
       "    .dataframe tbody tr th {\n",
       "        vertical-align: top;\n",
       "    }\n",
       "\n",
       "    .dataframe thead th {\n",
       "        text-align: right;\n",
       "    }\n",
       "</style>\n",
       "<table border=\"1\" class=\"dataframe\">\n",
       "  <thead>\n",
       "    <tr style=\"text-align: right;\">\n",
       "      <th></th>\n",
       "      <th>Unnamed: 0</th>\n",
       "      <th>book</th>\n",
       "      <th>character</th>\n",
       "    </tr>\n",
       "  </thead>\n",
       "  <tbody>\n",
       "    <tr>\n",
       "      <th>0</th>\n",
       "      <td>0</td>\n",
       "      <td>Category:The Lightning Thief characters</td>\n",
       "      <td>Alecto</td>\n",
       "    </tr>\n",
       "    <tr>\n",
       "      <th>1</th>\n",
       "      <td>1</td>\n",
       "      <td>Category:The Lightning Thief characters</td>\n",
       "      <td>Annabeth Chase</td>\n",
       "    </tr>\n",
       "    <tr>\n",
       "      <th>2</th>\n",
       "      <td>2</td>\n",
       "      <td>Category:The Lightning Thief characters</td>\n",
       "      <td>Ares</td>\n",
       "    </tr>\n",
       "    <tr>\n",
       "      <th>3</th>\n",
       "      <td>3</td>\n",
       "      <td>Category:The Lightning Thief characters</td>\n",
       "      <td>Argus</td>\n",
       "    </tr>\n",
       "    <tr>\n",
       "      <th>4</th>\n",
       "      <td>4</td>\n",
       "      <td>Category:The Lightning Thief characters</td>\n",
       "      <td>Barbara Walters</td>\n",
       "    </tr>\n",
       "    <tr>\n",
       "      <th>...</th>\n",
       "      <td>...</td>\n",
       "      <td>...</td>\n",
       "      <td>...</td>\n",
       "    </tr>\n",
       "    <tr>\n",
       "      <th>432</th>\n",
       "      <td>432</td>\n",
       "      <td>Category:The Last Olympian characters</td>\n",
       "      <td>Triton</td>\n",
       "    </tr>\n",
       "    <tr>\n",
       "      <th>433</th>\n",
       "      <td>433</td>\n",
       "      <td>Category:The Last Olympian characters</td>\n",
       "      <td>Typhon</td>\n",
       "    </tr>\n",
       "    <tr>\n",
       "      <th>434</th>\n",
       "      <td>434</td>\n",
       "      <td>Category:The Last Olympian characters</td>\n",
       "      <td>Tyson</td>\n",
       "    </tr>\n",
       "    <tr>\n",
       "      <th>435</th>\n",
       "      <td>435</td>\n",
       "      <td>Category:The Last Olympian characters</td>\n",
       "      <td>William H. Seward's Statue</td>\n",
       "    </tr>\n",
       "    <tr>\n",
       "      <th>436</th>\n",
       "      <td>436</td>\n",
       "      <td>Category:The Last Olympian characters</td>\n",
       "      <td>Zeus</td>\n",
       "    </tr>\n",
       "  </tbody>\n",
       "</table>\n",
       "<p>437 rows × 3 columns</p>\n",
       "</div>"
      ],
      "text/plain": [
       "     Unnamed: 0                                     book  \\\n",
       "0             0  Category:The Lightning Thief characters   \n",
       "1             1  Category:The Lightning Thief characters   \n",
       "2             2  Category:The Lightning Thief characters   \n",
       "3             3  Category:The Lightning Thief characters   \n",
       "4             4  Category:The Lightning Thief characters   \n",
       "..          ...                                      ...   \n",
       "432         432    Category:The Last Olympian characters   \n",
       "433         433    Category:The Last Olympian characters   \n",
       "434         434    Category:The Last Olympian characters   \n",
       "435         435    Category:The Last Olympian characters   \n",
       "436         436    Category:The Last Olympian characters   \n",
       "\n",
       "                      character  \n",
       "0                        Alecto  \n",
       "1                Annabeth Chase  \n",
       "2                          Ares  \n",
       "3                         Argus  \n",
       "4               Barbara Walters  \n",
       "..                          ...  \n",
       "432                      Triton  \n",
       "433                      Typhon  \n",
       "434                       Tyson  \n",
       "435  William H. Seward's Statue  \n",
       "436                        Zeus  \n",
       "\n",
       "[437 rows x 3 columns]"
      ]
     },
     "execution_count": 14,
     "metadata": {},
     "output_type": "execute_result"
    }
   ],
   "source": [
    "character_df = pd.read_csv('Books/characters.csv')\n",
    "character_df"
   ]
  },
  {
   "cell_type": "markdown",
   "id": "e7b028dd",
   "metadata": {},
   "source": [
    "Here we see that there is information included within parentheses for certain characters, and a few of them are referred to with their prefix of Mr/Mrs/Ms/Dr. The rest are written with both their full name, and their first name. Let us extract the first names of these characters."
   ]
  },
  {
   "cell_type": "code",
   "execution_count": 15,
   "id": "57bc89cf",
   "metadata": {},
   "outputs": [
    {
     "data": {
      "text/html": [
       "<div>\n",
       "<style scoped>\n",
       "    .dataframe tbody tr th:only-of-type {\n",
       "        vertical-align: middle;\n",
       "    }\n",
       "\n",
       "    .dataframe tbody tr th {\n",
       "        vertical-align: top;\n",
       "    }\n",
       "\n",
       "    .dataframe thead th {\n",
       "        text-align: right;\n",
       "    }\n",
       "</style>\n",
       "<table border=\"1\" class=\"dataframe\">\n",
       "  <thead>\n",
       "    <tr style=\"text-align: right;\">\n",
       "      <th></th>\n",
       "      <th>Unnamed: 0</th>\n",
       "      <th>book</th>\n",
       "      <th>character</th>\n",
       "      <th>character_firstname</th>\n",
       "    </tr>\n",
       "  </thead>\n",
       "  <tbody>\n",
       "    <tr>\n",
       "      <th>0</th>\n",
       "      <td>0</td>\n",
       "      <td>Category:The Lightning Thief characters</td>\n",
       "      <td>Alecto</td>\n",
       "      <td>Alecto</td>\n",
       "    </tr>\n",
       "    <tr>\n",
       "      <th>1</th>\n",
       "      <td>1</td>\n",
       "      <td>Category:The Lightning Thief characters</td>\n",
       "      <td>Annabeth Chase</td>\n",
       "      <td>Annabeth</td>\n",
       "    </tr>\n",
       "    <tr>\n",
       "      <th>2</th>\n",
       "      <td>2</td>\n",
       "      <td>Category:The Lightning Thief characters</td>\n",
       "      <td>Ares</td>\n",
       "      <td>Ares</td>\n",
       "    </tr>\n",
       "    <tr>\n",
       "      <th>3</th>\n",
       "      <td>3</td>\n",
       "      <td>Category:The Lightning Thief characters</td>\n",
       "      <td>Argus</td>\n",
       "      <td>Argus</td>\n",
       "    </tr>\n",
       "    <tr>\n",
       "      <th>4</th>\n",
       "      <td>4</td>\n",
       "      <td>Category:The Lightning Thief characters</td>\n",
       "      <td>Barbara Walters</td>\n",
       "      <td>Barbara</td>\n",
       "    </tr>\n",
       "    <tr>\n",
       "      <th>...</th>\n",
       "      <td>...</td>\n",
       "      <td>...</td>\n",
       "      <td>...</td>\n",
       "      <td>...</td>\n",
       "    </tr>\n",
       "    <tr>\n",
       "      <th>432</th>\n",
       "      <td>432</td>\n",
       "      <td>Category:The Last Olympian characters</td>\n",
       "      <td>Triton</td>\n",
       "      <td>Triton</td>\n",
       "    </tr>\n",
       "    <tr>\n",
       "      <th>433</th>\n",
       "      <td>433</td>\n",
       "      <td>Category:The Last Olympian characters</td>\n",
       "      <td>Typhon</td>\n",
       "      <td>Typhon</td>\n",
       "    </tr>\n",
       "    <tr>\n",
       "      <th>434</th>\n",
       "      <td>434</td>\n",
       "      <td>Category:The Last Olympian characters</td>\n",
       "      <td>Tyson</td>\n",
       "      <td>Tyson</td>\n",
       "    </tr>\n",
       "    <tr>\n",
       "      <th>435</th>\n",
       "      <td>435</td>\n",
       "      <td>Category:The Last Olympian characters</td>\n",
       "      <td>William H. Seward's Statue</td>\n",
       "      <td>William</td>\n",
       "    </tr>\n",
       "    <tr>\n",
       "      <th>436</th>\n",
       "      <td>436</td>\n",
       "      <td>Category:The Last Olympian characters</td>\n",
       "      <td>Zeus</td>\n",
       "      <td>Zeus</td>\n",
       "    </tr>\n",
       "  </tbody>\n",
       "</table>\n",
       "<p>437 rows × 4 columns</p>\n",
       "</div>"
      ],
      "text/plain": [
       "     Unnamed: 0                                     book  \\\n",
       "0             0  Category:The Lightning Thief characters   \n",
       "1             1  Category:The Lightning Thief characters   \n",
       "2             2  Category:The Lightning Thief characters   \n",
       "3             3  Category:The Lightning Thief characters   \n",
       "4             4  Category:The Lightning Thief characters   \n",
       "..          ...                                      ...   \n",
       "432         432    Category:The Last Olympian characters   \n",
       "433         433    Category:The Last Olympian characters   \n",
       "434         434    Category:The Last Olympian characters   \n",
       "435         435    Category:The Last Olympian characters   \n",
       "436         436    Category:The Last Olympian characters   \n",
       "\n",
       "                      character character_firstname  \n",
       "0                        Alecto              Alecto  \n",
       "1                Annabeth Chase            Annabeth  \n",
       "2                          Ares                Ares  \n",
       "3                         Argus               Argus  \n",
       "4               Barbara Walters             Barbara  \n",
       "..                          ...                 ...  \n",
       "432                      Triton              Triton  \n",
       "433                      Typhon              Typhon  \n",
       "434                       Tyson               Tyson  \n",
       "435  William H. Seward's Statue             William  \n",
       "436                        Zeus                Zeus  \n",
       "\n",
       "[437 rows x 4 columns]"
      ]
     },
     "execution_count": 15,
     "metadata": {},
     "output_type": "execute_result"
    }
   ],
   "source": [
    "#removing prefixes, brackets and extra text from the names\n",
    "\n",
    "character_df['character'] = character_df['character'].apply(lambda x: re.sub(\"[\\(].*?[\\)]\", \"\", x))\n",
    "\n",
    "character_df['character_firstname'] = character_df['character'].apply(\n",
    "                lambda x: x if x.startswith('Mr. ') \n",
    "                else (x if x.startswith('Mrs. ') \n",
    "                else (x if x.startswith('Ms. ') \n",
    "                else (x if x.startswith('Dr. ') \n",
    "                else x.split(' ', 1)[0] ) )) )\n",
    "\n",
    "\n",
    "\n",
    "\n",
    "# pd.set_option('display.max_rows', None)\n",
    "character_df"
   ]
  },
  {
   "cell_type": "markdown",
   "id": "a15b15d9",
   "metadata": {},
   "source": [
    "We have succesfully gotten the names of the characters the way they have been mentioned in the books."
   ]
  },
  {
   "cell_type": "markdown",
   "id": "d8ed31da",
   "metadata": {},
   "source": [
    "## Entitiy list per sentence in the books"
   ]
  },
  {
   "cell_type": "markdown",
   "id": "3d871b6d",
   "metadata": {},
   "source": [
    "Now let us create a list of all the entities per sentence present in the books. Spacy has recognized all the entities, and we shall collate the entities that are useful to us, i.e. the names. We shall again just work with Book 1."
   ]
  },
  {
   "cell_type": "code",
   "execution_count": 16,
   "id": "60e671eb",
   "metadata": {},
   "outputs": [],
   "source": [
    "sentence_entity_df = []\n",
    "\n",
    "for sentence in book_doc_1.sents:\n",
    "    entity_list = [entity.text for entity in sentence.ents]\n",
    "    sentence_entity_df.append({'sentence': sentence, 'entities': entity_list})"
   ]
  },
  {
   "cell_type": "code",
   "execution_count": 17,
   "id": "fef20d07",
   "metadata": {},
   "outputs": [
    {
     "data": {
      "text/html": [
       "<div>\n",
       "<style scoped>\n",
       "    .dataframe tbody tr th:only-of-type {\n",
       "        vertical-align: middle;\n",
       "    }\n",
       "\n",
       "    .dataframe tbody tr th {\n",
       "        vertical-align: top;\n",
       "    }\n",
       "\n",
       "    .dataframe thead th {\n",
       "        text-align: right;\n",
       "    }\n",
       "</style>\n",
       "<table border=\"1\" class=\"dataframe\">\n",
       "  <thead>\n",
       "    <tr style=\"text-align: right;\">\n",
       "      <th></th>\n",
       "      <th>sentence</th>\n",
       "      <th>entities</th>\n",
       "    </tr>\n",
       "  </thead>\n",
       "  <tbody>\n",
       "    <tr>\n",
       "      <th>0</th>\n",
       "      <td>(\\n\\n, Copyright, Â, ©, 2005, by, Rick, Riorda...</td>\n",
       "      <td>[Rick Riordan]</td>\n",
       "    </tr>\n",
       "    <tr>\n",
       "      <th>1</th>\n",
       "      <td>(No, part, of, this, book, may, be, reproduced...</td>\n",
       "      <td>[]</td>\n",
       "    </tr>\n",
       "    <tr>\n",
       "      <th>2</th>\n",
       "      <td>(For, information, address, Hyperion, Books, f...</td>\n",
       "      <td>[Hyperion Books for Children, Fifth Avenue, Ne...</td>\n",
       "    </tr>\n",
       "    <tr>\n",
       "      <th>3</th>\n",
       "      <td>(\\n\\n, First, Edition, \\n, 579, 10, 8, 6, \\n\\n...</td>\n",
       "      <td>[10, 8 6, the United States of America, Congre...</td>\n",
       "    </tr>\n",
       "    <tr>\n",
       "      <th>4</th>\n",
       "      <td>(\\n\\n, ISBN, 0, -, 7868, -, 5629, -, 7, (, har...</td>\n",
       "      <td>[0-7868-5629-7, To Haley, 16, â€¢ Grover Unexp...</td>\n",
       "    </tr>\n",
       "    <tr>\n",
       "      <th>...</th>\n",
       "      <td>...</td>\n",
       "      <td>...</td>\n",
       "    </tr>\n",
       "    <tr>\n",
       "      <th>9715</th>\n",
       "      <td>(Thanks, to, my, \\n, elder, son, ,, Haley, Mic...</td>\n",
       "      <td>[Haley Michael, first]</td>\n",
       "    </tr>\n",
       "    <tr>\n",
       "      <th>9716</th>\n",
       "      <td>(Patrick, John, ,, who, at, the, age, of, six,...</td>\n",
       "      <td>[Patrick John, the age of six, one, Becky, man...</td>\n",
       "    </tr>\n",
       "    <tr>\n",
       "      <th>9717</th>\n",
       "      <td>(Thanks, also, \\n, to, my, cadre, of, middle-,...</td>\n",
       "      <td>[Travis Stoll, Hermes, C. C. Kellogg, Athena, ...</td>\n",
       "    </tr>\n",
       "    <tr>\n",
       "      <th>9718</th>\n",
       "      <td>(My, appreciation, also, to, Professor, \\n, Eg...</td>\n",
       "      <td>[Egbert J. Bakker, Nancy Gallt, summa cum laud...</td>\n",
       "    </tr>\n",
       "    <tr>\n",
       "      <th>9719</th>\n",
       "      <td>(\\n\\n\\n, [, 377, ], \\n\\n\\n\\n)</td>\n",
       "      <td>[377]</td>\n",
       "    </tr>\n",
       "  </tbody>\n",
       "</table>\n",
       "<p>9720 rows × 2 columns</p>\n",
       "</div>"
      ],
      "text/plain": [
       "                                               sentence  \\\n",
       "0     (\\n\\n, Copyright, Â, ©, 2005, by, Rick, Riorda...   \n",
       "1     (No, part, of, this, book, may, be, reproduced...   \n",
       "2     (For, information, address, Hyperion, Books, f...   \n",
       "3     (\\n\\n, First, Edition, \\n, 579, 10, 8, 6, \\n\\n...   \n",
       "4     (\\n\\n, ISBN, 0, -, 7868, -, 5629, -, 7, (, har...   \n",
       "...                                                 ...   \n",
       "9715  (Thanks, to, my, \\n, elder, son, ,, Haley, Mic...   \n",
       "9716  (Patrick, John, ,, who, at, the, age, of, six,...   \n",
       "9717  (Thanks, also, \\n, to, my, cadre, of, middle-,...   \n",
       "9718  (My, appreciation, also, to, Professor, \\n, Eg...   \n",
       "9719                      (\\n\\n\\n, [, 377, ], \\n\\n\\n\\n)   \n",
       "\n",
       "                                               entities  \n",
       "0                                        [Rick Riordan]  \n",
       "1                                                    []  \n",
       "2     [Hyperion Books for Children, Fifth Avenue, Ne...  \n",
       "3     [10, 8 6, the United States of America, Congre...  \n",
       "4     [0-7868-5629-7, To Haley, 16, â€¢ Grover Unexp...  \n",
       "...                                                 ...  \n",
       "9715                             [Haley Michael, first]  \n",
       "9716  [Patrick John, the age of six, one, Becky, man...  \n",
       "9717  [Travis Stoll, Hermes, C. C. Kellogg, Athena, ...  \n",
       "9718  [Egbert J. Bakker, Nancy Gallt, summa cum laud...  \n",
       "9719                                              [377]  \n",
       "\n",
       "[9720 rows x 2 columns]"
      ]
     },
     "execution_count": 17,
     "metadata": {},
     "output_type": "execute_result"
    }
   ],
   "source": [
    "sentence_entity_df_book_1 = pd.DataFrame(sentence_entity_df)\n",
    "sentence_entity_df_book_1"
   ]
  },
  {
   "cell_type": "markdown",
   "id": "cfa8c62d",
   "metadata": {},
   "source": [
    "The dataframe above shows all the sentences and the entities present in them from Book 1. We are only interested with entities that are characters. Let us filter this dataframe."
   ]
  },
  {
   "cell_type": "code",
   "execution_count": 18,
   "id": "d1c5610d",
   "metadata": {},
   "outputs": [
    {
     "data": {
      "text/html": [
       "<div>\n",
       "<style scoped>\n",
       "    .dataframe tbody tr th:only-of-type {\n",
       "        vertical-align: middle;\n",
       "    }\n",
       "\n",
       "    .dataframe tbody tr th {\n",
       "        vertical-align: top;\n",
       "    }\n",
       "\n",
       "    .dataframe thead th {\n",
       "        text-align: right;\n",
       "    }\n",
       "</style>\n",
       "<table border=\"1\" class=\"dataframe\">\n",
       "  <thead>\n",
       "    <tr style=\"text-align: right;\">\n",
       "      <th></th>\n",
       "      <th>sentence</th>\n",
       "      <th>entities</th>\n",
       "      <th>character_entities</th>\n",
       "    </tr>\n",
       "  </thead>\n",
       "  <tbody>\n",
       "    <tr>\n",
       "      <th>0</th>\n",
       "      <td>(\\n\\n, Copyright, Â, ©, 2005, by, Rick, Riorda...</td>\n",
       "      <td>[Rick Riordan]</td>\n",
       "      <td>[]</td>\n",
       "    </tr>\n",
       "    <tr>\n",
       "      <th>1</th>\n",
       "      <td>(No, part, of, this, book, may, be, reproduced...</td>\n",
       "      <td>[]</td>\n",
       "      <td>[]</td>\n",
       "    </tr>\n",
       "    <tr>\n",
       "      <th>2</th>\n",
       "      <td>(For, information, address, Hyperion, Books, f...</td>\n",
       "      <td>[Hyperion Books for Children, Fifth Avenue, Ne...</td>\n",
       "      <td>[]</td>\n",
       "    </tr>\n",
       "    <tr>\n",
       "      <th>3</th>\n",
       "      <td>(\\n\\n, First, Edition, \\n, 579, 10, 8, 6, \\n\\n...</td>\n",
       "      <td>[10, 8 6, the United States of America, Congre...</td>\n",
       "      <td>[]</td>\n",
       "    </tr>\n",
       "    <tr>\n",
       "      <th>4</th>\n",
       "      <td>(\\n\\n, ISBN, 0, -, 7868, -, 5629, -, 7, (, har...</td>\n",
       "      <td>[0-7868-5629-7, To Haley, 16, â€¢ Grover Unexp...</td>\n",
       "      <td>[]</td>\n",
       "    </tr>\n",
       "    <tr>\n",
       "      <th>...</th>\n",
       "      <td>...</td>\n",
       "      <td>...</td>\n",
       "      <td>...</td>\n",
       "    </tr>\n",
       "    <tr>\n",
       "      <th>9715</th>\n",
       "      <td>(Thanks, to, my, \\n, elder, son, ,, Haley, Mic...</td>\n",
       "      <td>[Haley Michael, first]</td>\n",
       "      <td>[]</td>\n",
       "    </tr>\n",
       "    <tr>\n",
       "      <th>9716</th>\n",
       "      <td>(Patrick, John, ,, who, at, the, age, of, six,...</td>\n",
       "      <td>[Patrick John, the age of six, one, Becky, man...</td>\n",
       "      <td>[]</td>\n",
       "    </tr>\n",
       "    <tr>\n",
       "      <th>9717</th>\n",
       "      <td>(Thanks, also, \\n, to, my, cadre, of, middle-,...</td>\n",
       "      <td>[Travis Stoll, Hermes, C. C. Kellogg, Athena, ...</td>\n",
       "      <td>[Travis Stoll, Hermes, Athena]</td>\n",
       "    </tr>\n",
       "    <tr>\n",
       "      <th>9718</th>\n",
       "      <td>(My, appreciation, also, to, Professor, \\n, Eg...</td>\n",
       "      <td>[Egbert J. Bakker, Nancy Gallt, summa cum laud...</td>\n",
       "      <td>[Percy]</td>\n",
       "    </tr>\n",
       "    <tr>\n",
       "      <th>9719</th>\n",
       "      <td>(\\n\\n\\n, [, 377, ], \\n\\n\\n\\n)</td>\n",
       "      <td>[377]</td>\n",
       "      <td>[]</td>\n",
       "    </tr>\n",
       "  </tbody>\n",
       "</table>\n",
       "<p>9720 rows × 3 columns</p>\n",
       "</div>"
      ],
      "text/plain": [
       "                                               sentence  \\\n",
       "0     (\\n\\n, Copyright, Â, ©, 2005, by, Rick, Riorda...   \n",
       "1     (No, part, of, this, book, may, be, reproduced...   \n",
       "2     (For, information, address, Hyperion, Books, f...   \n",
       "3     (\\n\\n, First, Edition, \\n, 579, 10, 8, 6, \\n\\n...   \n",
       "4     (\\n\\n, ISBN, 0, -, 7868, -, 5629, -, 7, (, har...   \n",
       "...                                                 ...   \n",
       "9715  (Thanks, to, my, \\n, elder, son, ,, Haley, Mic...   \n",
       "9716  (Patrick, John, ,, who, at, the, age, of, six,...   \n",
       "9717  (Thanks, also, \\n, to, my, cadre, of, middle-,...   \n",
       "9718  (My, appreciation, also, to, Professor, \\n, Eg...   \n",
       "9719                      (\\n\\n\\n, [, 377, ], \\n\\n\\n\\n)   \n",
       "\n",
       "                                               entities  \\\n",
       "0                                        [Rick Riordan]   \n",
       "1                                                    []   \n",
       "2     [Hyperion Books for Children, Fifth Avenue, Ne...   \n",
       "3     [10, 8 6, the United States of America, Congre...   \n",
       "4     [0-7868-5629-7, To Haley, 16, â€¢ Grover Unexp...   \n",
       "...                                                 ...   \n",
       "9715                             [Haley Michael, first]   \n",
       "9716  [Patrick John, the age of six, one, Becky, man...   \n",
       "9717  [Travis Stoll, Hermes, C. C. Kellogg, Athena, ...   \n",
       "9718  [Egbert J. Bakker, Nancy Gallt, summa cum laud...   \n",
       "9719                                              [377]   \n",
       "\n",
       "                  character_entities  \n",
       "0                                 []  \n",
       "1                                 []  \n",
       "2                                 []  \n",
       "3                                 []  \n",
       "4                                 []  \n",
       "...                              ...  \n",
       "9715                              []  \n",
       "9716                              []  \n",
       "9717  [Travis Stoll, Hermes, Athena]  \n",
       "9718                         [Percy]  \n",
       "9719                              []  \n",
       "\n",
       "[9720 rows x 3 columns]"
      ]
     },
     "execution_count": 18,
     "metadata": {},
     "output_type": "execute_result"
    }
   ],
   "source": [
    "sentence_entity_df_book_1['character_entities'] = sentence_entity_df_book_1['entities'].apply(\n",
    "                                                        lambda x: filter_entity(x, character_df))\n",
    "    \n",
    "sentence_entity_df_book_1"
   ]
  },
  {
   "cell_type": "markdown",
   "id": "c37a635f",
   "metadata": {},
   "source": [
    "There are multiple character_entities that are empty. Let us filter them out. "
   ]
  },
  {
   "cell_type": "code",
   "execution_count": 19,
   "id": "d79455a7",
   "metadata": {},
   "outputs": [
    {
     "data": {
      "text/html": [
       "<div>\n",
       "<style scoped>\n",
       "    .dataframe tbody tr th:only-of-type {\n",
       "        vertical-align: middle;\n",
       "    }\n",
       "\n",
       "    .dataframe tbody tr th {\n",
       "        vertical-align: top;\n",
       "    }\n",
       "\n",
       "    .dataframe thead th {\n",
       "        text-align: right;\n",
       "    }\n",
       "</style>\n",
       "<table border=\"1\" class=\"dataframe\">\n",
       "  <thead>\n",
       "    <tr style=\"text-align: right;\">\n",
       "      <th></th>\n",
       "      <th>sentence</th>\n",
       "      <th>entities</th>\n",
       "      <th>character_entities</th>\n",
       "    </tr>\n",
       "  </thead>\n",
       "  <tbody>\n",
       "    <tr>\n",
       "      <th>21</th>\n",
       "      <td>(\\n\\n, My, name, is, Percy, Jackson, .)</td>\n",
       "      <td>[Percy Jackson]</td>\n",
       "      <td>[Percy Jackson]</td>\n",
       "    </tr>\n",
       "    <tr>\n",
       "      <th>46</th>\n",
       "      <td>(\\n\\n, All, the, way, into, the, city, ,, I, p...</td>\n",
       "      <td>[Nancy Bobofit, kleptomaniac]</td>\n",
       "      <td>[Nancy Bobofit]</td>\n",
       "    </tr>\n",
       "    <tr>\n",
       "      <th>55</th>\n",
       "      <td>(\\n\\n, Anyway, ,, Nancy, Bobofit, was, throwin...</td>\n",
       "      <td>[Nancy Bobofit]</td>\n",
       "      <td>[Nancy Bobofit]</td>\n",
       "    </tr>\n",
       "    <tr>\n",
       "      <th>61</th>\n",
       "      <td>(\\n\\n, He, dodged, another, piece, of, Nancy, ...</td>\n",
       "      <td>[Nancy]</td>\n",
       "      <td>[Nancy]</td>\n",
       "    </tr>\n",
       "    <tr>\n",
       "      <th>66</th>\n",
       "      <td>(\\n\\n, Looking, back, on, it, ,, I, wish, I, '...</td>\n",
       "      <td>[Nancy Bobofit, 3]</td>\n",
       "      <td>[Nancy Bobofit]</td>\n",
       "    </tr>\n",
       "    <tr>\n",
       "      <th>...</th>\n",
       "      <td>...</td>\n",
       "      <td>...</td>\n",
       "      <td>...</td>\n",
       "    </tr>\n",
       "    <tr>\n",
       "      <th>9696</th>\n",
       "      <td>(\\n\\n, \", Sounds, like, a, plan, worthy, of, A...</td>\n",
       "      <td>[Athena]</td>\n",
       "      <td>[Athena]</td>\n",
       "    </tr>\n",
       "    <tr>\n",
       "      <th>9704</th>\n",
       "      <td>(She, touched, Thalia, 's, pine, tree, ,, then...</td>\n",
       "      <td>[Thalia]</td>\n",
       "      <td>[Thalia]</td>\n",
       "    </tr>\n",
       "    <tr>\n",
       "      <th>9709</th>\n",
       "      <td>(\\n\\n, I, wondered, ,, if, Poseidon, were, wat...</td>\n",
       "      <td>[Poseidon]</td>\n",
       "      <td>[Poseidon]</td>\n",
       "    </tr>\n",
       "    <tr>\n",
       "      <th>9717</th>\n",
       "      <td>(Thanks, also, \\n, to, my, cadre, of, middle-,...</td>\n",
       "      <td>[Travis Stoll, Hermes, C. C. Kellogg, Athena, ...</td>\n",
       "      <td>[Travis Stoll, Hermes, Athena]</td>\n",
       "    </tr>\n",
       "    <tr>\n",
       "      <th>9718</th>\n",
       "      <td>(My, appreciation, also, to, Professor, \\n, Eg...</td>\n",
       "      <td>[Egbert J. Bakker, Nancy Gallt, summa cum laud...</td>\n",
       "      <td>[Percy]</td>\n",
       "    </tr>\n",
       "  </tbody>\n",
       "</table>\n",
       "<p>931 rows × 3 columns</p>\n",
       "</div>"
      ],
      "text/plain": [
       "                                               sentence  \\\n",
       "21              (\\n\\n, My, name, is, Percy, Jackson, .)   \n",
       "46    (\\n\\n, All, the, way, into, the, city, ,, I, p...   \n",
       "55    (\\n\\n, Anyway, ,, Nancy, Bobofit, was, throwin...   \n",
       "61    (\\n\\n, He, dodged, another, piece, of, Nancy, ...   \n",
       "66    (\\n\\n, Looking, back, on, it, ,, I, wish, I, '...   \n",
       "...                                                 ...   \n",
       "9696  (\\n\\n, \", Sounds, like, a, plan, worthy, of, A...   \n",
       "9704  (She, touched, Thalia, 's, pine, tree, ,, then...   \n",
       "9709  (\\n\\n, I, wondered, ,, if, Poseidon, were, wat...   \n",
       "9717  (Thanks, also, \\n, to, my, cadre, of, middle-,...   \n",
       "9718  (My, appreciation, also, to, Professor, \\n, Eg...   \n",
       "\n",
       "                                               entities  \\\n",
       "21                                      [Percy Jackson]   \n",
       "46                        [Nancy Bobofit, kleptomaniac]   \n",
       "55                                      [Nancy Bobofit]   \n",
       "61                                              [Nancy]   \n",
       "66                                   [Nancy Bobofit, 3]   \n",
       "...                                                 ...   \n",
       "9696                                           [Athena]   \n",
       "9704                                           [Thalia]   \n",
       "9709                                         [Poseidon]   \n",
       "9717  [Travis Stoll, Hermes, C. C. Kellogg, Athena, ...   \n",
       "9718  [Egbert J. Bakker, Nancy Gallt, summa cum laud...   \n",
       "\n",
       "                  character_entities  \n",
       "21                   [Percy Jackson]  \n",
       "46                   [Nancy Bobofit]  \n",
       "55                   [Nancy Bobofit]  \n",
       "61                           [Nancy]  \n",
       "66                   [Nancy Bobofit]  \n",
       "...                              ...  \n",
       "9696                        [Athena]  \n",
       "9704                        [Thalia]  \n",
       "9709                      [Poseidon]  \n",
       "9717  [Travis Stoll, Hermes, Athena]  \n",
       "9718                         [Percy]  \n",
       "\n",
       "[931 rows x 3 columns]"
      ]
     },
     "execution_count": 19,
     "metadata": {},
     "output_type": "execute_result"
    }
   ],
   "source": [
    "sentence_entity_df_filtered_book_1 = sentence_entity_df_book_1[sentence_entity_df_book_1['character_entities'].map(len) > 0]\n",
    "sentence_entity_df_filtered_book_1"
   ]
  },
  {
   "cell_type": "markdown",
   "id": "19264c61",
   "metadata": {},
   "source": [
    "We can see that we have two seperate entities for characters due to the fact that they are referred to with their full name as well as their first name ('Percy Jackson' and 'Percy' are two seperate entities). Let us take the first name of all the entities to keep the entities consistent."
   ]
  },
  {
   "cell_type": "code",
   "execution_count": 20,
   "id": "3f962ae2",
   "metadata": {
    "scrolled": true
   },
   "outputs": [
    {
     "name": "stderr",
     "output_type": "stream",
     "text": [
      "C:\\Users\\varun\\AppData\\Local\\Temp\\ipykernel_29084\\2519888507.py:1: SettingWithCopyWarning: \n",
      "A value is trying to be set on a copy of a slice from a DataFrame.\n",
      "Try using .loc[row_indexer,col_indexer] = value instead\n",
      "\n",
      "See the caveats in the documentation: https://pandas.pydata.org/pandas-docs/stable/user_guide/indexing.html#returning-a-view-versus-a-copy\n",
      "  sentence_entity_df_filtered_book_1['character_entities'] = sentence_entity_df_filtered_book_1['character_entities'].apply(\n"
     ]
    },
    {
     "data": {
      "text/html": [
       "<div>\n",
       "<style scoped>\n",
       "    .dataframe tbody tr th:only-of-type {\n",
       "        vertical-align: middle;\n",
       "    }\n",
       "\n",
       "    .dataframe tbody tr th {\n",
       "        vertical-align: top;\n",
       "    }\n",
       "\n",
       "    .dataframe thead th {\n",
       "        text-align: right;\n",
       "    }\n",
       "</style>\n",
       "<table border=\"1\" class=\"dataframe\">\n",
       "  <thead>\n",
       "    <tr style=\"text-align: right;\">\n",
       "      <th></th>\n",
       "      <th>sentence</th>\n",
       "      <th>entities</th>\n",
       "      <th>character_entities</th>\n",
       "    </tr>\n",
       "  </thead>\n",
       "  <tbody>\n",
       "    <tr>\n",
       "      <th>21</th>\n",
       "      <td>(\\n\\n, My, name, is, Percy, Jackson, .)</td>\n",
       "      <td>[Percy Jackson]</td>\n",
       "      <td>[Percy]</td>\n",
       "    </tr>\n",
       "    <tr>\n",
       "      <th>46</th>\n",
       "      <td>(\\n\\n, All, the, way, into, the, city, ,, I, p...</td>\n",
       "      <td>[Nancy Bobofit, kleptomaniac]</td>\n",
       "      <td>[Nancy]</td>\n",
       "    </tr>\n",
       "    <tr>\n",
       "      <th>55</th>\n",
       "      <td>(\\n\\n, Anyway, ,, Nancy, Bobofit, was, throwin...</td>\n",
       "      <td>[Nancy Bobofit]</td>\n",
       "      <td>[Nancy]</td>\n",
       "    </tr>\n",
       "    <tr>\n",
       "      <th>61</th>\n",
       "      <td>(\\n\\n, He, dodged, another, piece, of, Nancy, ...</td>\n",
       "      <td>[Nancy]</td>\n",
       "      <td>[Nancy]</td>\n",
       "    </tr>\n",
       "    <tr>\n",
       "      <th>66</th>\n",
       "      <td>(\\n\\n, Looking, back, on, it, ,, I, wish, I, '...</td>\n",
       "      <td>[Nancy Bobofit, 3]</td>\n",
       "      <td>[Nancy]</td>\n",
       "    </tr>\n",
       "    <tr>\n",
       "      <th>...</th>\n",
       "      <td>...</td>\n",
       "      <td>...</td>\n",
       "      <td>...</td>\n",
       "    </tr>\n",
       "    <tr>\n",
       "      <th>9696</th>\n",
       "      <td>(\\n\\n, \", Sounds, like, a, plan, worthy, of, A...</td>\n",
       "      <td>[Athena]</td>\n",
       "      <td>[Athena]</td>\n",
       "    </tr>\n",
       "    <tr>\n",
       "      <th>9704</th>\n",
       "      <td>(She, touched, Thalia, 's, pine, tree, ,, then...</td>\n",
       "      <td>[Thalia]</td>\n",
       "      <td>[Thalia]</td>\n",
       "    </tr>\n",
       "    <tr>\n",
       "      <th>9709</th>\n",
       "      <td>(\\n\\n, I, wondered, ,, if, Poseidon, were, wat...</td>\n",
       "      <td>[Poseidon]</td>\n",
       "      <td>[Poseidon]</td>\n",
       "    </tr>\n",
       "    <tr>\n",
       "      <th>9717</th>\n",
       "      <td>(Thanks, also, \\n, to, my, cadre, of, middle-,...</td>\n",
       "      <td>[Travis Stoll, Hermes, C. C. Kellogg, Athena, ...</td>\n",
       "      <td>[Travis, Hermes, Athena]</td>\n",
       "    </tr>\n",
       "    <tr>\n",
       "      <th>9718</th>\n",
       "      <td>(My, appreciation, also, to, Professor, \\n, Eg...</td>\n",
       "      <td>[Egbert J. Bakker, Nancy Gallt, summa cum laud...</td>\n",
       "      <td>[Percy]</td>\n",
       "    </tr>\n",
       "  </tbody>\n",
       "</table>\n",
       "<p>931 rows × 3 columns</p>\n",
       "</div>"
      ],
      "text/plain": [
       "                                               sentence  \\\n",
       "21              (\\n\\n, My, name, is, Percy, Jackson, .)   \n",
       "46    (\\n\\n, All, the, way, into, the, city, ,, I, p...   \n",
       "55    (\\n\\n, Anyway, ,, Nancy, Bobofit, was, throwin...   \n",
       "61    (\\n\\n, He, dodged, another, piece, of, Nancy, ...   \n",
       "66    (\\n\\n, Looking, back, on, it, ,, I, wish, I, '...   \n",
       "...                                                 ...   \n",
       "9696  (\\n\\n, \", Sounds, like, a, plan, worthy, of, A...   \n",
       "9704  (She, touched, Thalia, 's, pine, tree, ,, then...   \n",
       "9709  (\\n\\n, I, wondered, ,, if, Poseidon, were, wat...   \n",
       "9717  (Thanks, also, \\n, to, my, cadre, of, middle-,...   \n",
       "9718  (My, appreciation, also, to, Professor, \\n, Eg...   \n",
       "\n",
       "                                               entities  \\\n",
       "21                                      [Percy Jackson]   \n",
       "46                        [Nancy Bobofit, kleptomaniac]   \n",
       "55                                      [Nancy Bobofit]   \n",
       "61                                              [Nancy]   \n",
       "66                                   [Nancy Bobofit, 3]   \n",
       "...                                                 ...   \n",
       "9696                                           [Athena]   \n",
       "9704                                           [Thalia]   \n",
       "9709                                         [Poseidon]   \n",
       "9717  [Travis Stoll, Hermes, C. C. Kellogg, Athena, ...   \n",
       "9718  [Egbert J. Bakker, Nancy Gallt, summa cum laud...   \n",
       "\n",
       "            character_entities  \n",
       "21                     [Percy]  \n",
       "46                     [Nancy]  \n",
       "55                     [Nancy]  \n",
       "61                     [Nancy]  \n",
       "66                     [Nancy]  \n",
       "...                        ...  \n",
       "9696                  [Athena]  \n",
       "9704                  [Thalia]  \n",
       "9709                [Poseidon]  \n",
       "9717  [Travis, Hermes, Athena]  \n",
       "9718                   [Percy]  \n",
       "\n",
       "[931 rows x 3 columns]"
      ]
     },
     "execution_count": 20,
     "metadata": {},
     "output_type": "execute_result"
    }
   ],
   "source": [
    "sentence_entity_df_filtered_book_1['character_entities'] = sentence_entity_df_filtered_book_1['character_entities'].apply(\n",
    "                                                    lambda x: [item.split()[0] for item in x])\n",
    "\n",
    "sentence_entity_df_filtered_book_1"
   ]
  },
  {
   "cell_type": "code",
   "execution_count": 21,
   "id": "1a8b0172",
   "metadata": {},
   "outputs": [],
   "source": [
    "sentence_entity_df_book_1 = sentence_entity_df_filtered_book_1"
   ]
  },
  {
   "cell_type": "markdown",
   "id": "9fc6be1a",
   "metadata": {},
   "source": [
    "## Creating relationships between the characters"
   ]
  },
  {
   "cell_type": "markdown",
   "id": "9705b9a0",
   "metadata": {},
   "source": [
    "Now that we have a list of all the characters in the first book, let us see all the characters that appear within a window of a number of sentences. The characters that appear in this window will tend to have a relationship with one another."
   ]
  },
  {
   "cell_type": "code",
   "execution_count": 22,
   "id": "0bad6a23",
   "metadata": {},
   "outputs": [],
   "source": [
    "window_size = 5\n",
    "character_list = []\n",
    "relationships = []\n",
    "for i in range(0, sentence_entity_df_book_1.index[-1]):\n",
    "    end_i = min(i + window_size, sentence_entity_df_book_1.index[-1])\n",
    "    character_list = sum((sentence_entity_df_book_1.loc[i: end_i].character_entities), [])\n",
    "    \n",
    "#     if i > 1000 and i < 2000:    #we see that there are entity lists that have two of the same entity in the list. \n",
    "#         print(character_list)    #We aren't interested in entity relationships with oneself so let us remove them\n",
    "\n",
    "\n",
    "    character_list_unique = [character_list[i] for i in range(len(character_list))\n",
    "                             if(i==0) or character_list[i] != character_list[i-1]]\n",
    "    \n",
    "    #now let us create the source and target of the relationships\n",
    "    \n",
    "    if len(character_list_unique) > 1:\n",
    "        for idx, a in enumerate(character_list_unique[:-1]):\n",
    "            b = character_list_unique[idx + 1]\n",
    "            relationships.append({'source': a, 'target': b})"
   ]
  },
  {
   "cell_type": "code",
   "execution_count": 23,
   "id": "204c2564",
   "metadata": {},
   "outputs": [
    {
     "data": {
      "text/html": [
       "<div>\n",
       "<style scoped>\n",
       "    .dataframe tbody tr th:only-of-type {\n",
       "        vertical-align: middle;\n",
       "    }\n",
       "\n",
       "    .dataframe tbody tr th {\n",
       "        vertical-align: top;\n",
       "    }\n",
       "\n",
       "    .dataframe thead th {\n",
       "        text-align: right;\n",
       "    }\n",
       "</style>\n",
       "<table border=\"1\" class=\"dataframe\">\n",
       "  <thead>\n",
       "    <tr style=\"text-align: right;\">\n",
       "      <th></th>\n",
       "      <th>source</th>\n",
       "      <th>target</th>\n",
       "    </tr>\n",
       "  </thead>\n",
       "  <tbody>\n",
       "    <tr>\n",
       "      <th>0</th>\n",
       "      <td>Titan</td>\n",
       "      <td>Zeus</td>\n",
       "    </tr>\n",
       "    <tr>\n",
       "      <th>1</th>\n",
       "      <td>Titan</td>\n",
       "      <td>Zeus</td>\n",
       "    </tr>\n",
       "    <tr>\n",
       "      <th>2</th>\n",
       "      <td>Titan</td>\n",
       "      <td>Zeus</td>\n",
       "    </tr>\n",
       "    <tr>\n",
       "      <th>3</th>\n",
       "      <td>Zeus</td>\n",
       "      <td>Nancy</td>\n",
       "    </tr>\n",
       "    <tr>\n",
       "      <th>4</th>\n",
       "      <td>Zeus</td>\n",
       "      <td>Nancy</td>\n",
       "    </tr>\n",
       "    <tr>\n",
       "      <th>...</th>\n",
       "      <td>...</td>\n",
       "      <td>...</td>\n",
       "    </tr>\n",
       "    <tr>\n",
       "      <th>1583</th>\n",
       "      <td>Hermes</td>\n",
       "      <td>Athena</td>\n",
       "    </tr>\n",
       "    <tr>\n",
       "      <th>1584</th>\n",
       "      <td>Athena</td>\n",
       "      <td>Percy</td>\n",
       "    </tr>\n",
       "    <tr>\n",
       "      <th>1585</th>\n",
       "      <td>Travis</td>\n",
       "      <td>Hermes</td>\n",
       "    </tr>\n",
       "    <tr>\n",
       "      <th>1586</th>\n",
       "      <td>Hermes</td>\n",
       "      <td>Athena</td>\n",
       "    </tr>\n",
       "    <tr>\n",
       "      <th>1587</th>\n",
       "      <td>Athena</td>\n",
       "      <td>Percy</td>\n",
       "    </tr>\n",
       "  </tbody>\n",
       "</table>\n",
       "<p>1588 rows × 2 columns</p>\n",
       "</div>"
      ],
      "text/plain": [
       "      source  target\n",
       "0      Titan    Zeus\n",
       "1      Titan    Zeus\n",
       "2      Titan    Zeus\n",
       "3       Zeus   Nancy\n",
       "4       Zeus   Nancy\n",
       "...      ...     ...\n",
       "1583  Hermes  Athena\n",
       "1584  Athena   Percy\n",
       "1585  Travis  Hermes\n",
       "1586  Hermes  Athena\n",
       "1587  Athena   Percy\n",
       "\n",
       "[1588 rows x 2 columns]"
      ]
     },
     "execution_count": 23,
     "metadata": {},
     "output_type": "execute_result"
    }
   ],
   "source": [
    "relationship_df_book_1 = pd.DataFrame(relationships)\n",
    "relationship_df_book_1"
   ]
  },
  {
   "cell_type": "markdown",
   "id": "b66c3ecd",
   "metadata": {},
   "source": [
    "We now have a dataframe of the relationships between the characters of Book 1. Here, we see that there are many \"reversed relationships (like \"Nancy\" -> \"Percy\" and \"Percy -> \"Nancy\"). Let us sort these relationships so that we can aggregate them easily. "
   ]
  },
  {
   "cell_type": "code",
   "execution_count": 24,
   "id": "a7adeb12",
   "metadata": {},
   "outputs": [
    {
     "data": {
      "text/html": [
       "<div>\n",
       "<style scoped>\n",
       "    .dataframe tbody tr th:only-of-type {\n",
       "        vertical-align: middle;\n",
       "    }\n",
       "\n",
       "    .dataframe tbody tr th {\n",
       "        vertical-align: top;\n",
       "    }\n",
       "\n",
       "    .dataframe thead th {\n",
       "        text-align: right;\n",
       "    }\n",
       "</style>\n",
       "<table border=\"1\" class=\"dataframe\">\n",
       "  <thead>\n",
       "    <tr style=\"text-align: right;\">\n",
       "      <th></th>\n",
       "      <th>source</th>\n",
       "      <th>target</th>\n",
       "    </tr>\n",
       "  </thead>\n",
       "  <tbody>\n",
       "    <tr>\n",
       "      <th>0</th>\n",
       "      <td>Titan</td>\n",
       "      <td>Zeus</td>\n",
       "    </tr>\n",
       "    <tr>\n",
       "      <th>1</th>\n",
       "      <td>Titan</td>\n",
       "      <td>Zeus</td>\n",
       "    </tr>\n",
       "    <tr>\n",
       "      <th>2</th>\n",
       "      <td>Titan</td>\n",
       "      <td>Zeus</td>\n",
       "    </tr>\n",
       "    <tr>\n",
       "      <th>3</th>\n",
       "      <td>Nancy</td>\n",
       "      <td>Zeus</td>\n",
       "    </tr>\n",
       "    <tr>\n",
       "      <th>4</th>\n",
       "      <td>Nancy</td>\n",
       "      <td>Zeus</td>\n",
       "    </tr>\n",
       "    <tr>\n",
       "      <th>...</th>\n",
       "      <td>...</td>\n",
       "      <td>...</td>\n",
       "    </tr>\n",
       "    <tr>\n",
       "      <th>1583</th>\n",
       "      <td>Athena</td>\n",
       "      <td>Hermes</td>\n",
       "    </tr>\n",
       "    <tr>\n",
       "      <th>1584</th>\n",
       "      <td>Athena</td>\n",
       "      <td>Percy</td>\n",
       "    </tr>\n",
       "    <tr>\n",
       "      <th>1585</th>\n",
       "      <td>Hermes</td>\n",
       "      <td>Travis</td>\n",
       "    </tr>\n",
       "    <tr>\n",
       "      <th>1586</th>\n",
       "      <td>Athena</td>\n",
       "      <td>Hermes</td>\n",
       "    </tr>\n",
       "    <tr>\n",
       "      <th>1587</th>\n",
       "      <td>Athena</td>\n",
       "      <td>Percy</td>\n",
       "    </tr>\n",
       "  </tbody>\n",
       "</table>\n",
       "<p>1588 rows × 2 columns</p>\n",
       "</div>"
      ],
      "text/plain": [
       "      source  target\n",
       "0      Titan    Zeus\n",
       "1      Titan    Zeus\n",
       "2      Titan    Zeus\n",
       "3      Nancy    Zeus\n",
       "4      Nancy    Zeus\n",
       "...      ...     ...\n",
       "1583  Athena  Hermes\n",
       "1584  Athena   Percy\n",
       "1585  Hermes  Travis\n",
       "1586  Athena  Hermes\n",
       "1587  Athena   Percy\n",
       "\n",
       "[1588 rows x 2 columns]"
      ]
     },
     "execution_count": 24,
     "metadata": {},
     "output_type": "execute_result"
    }
   ],
   "source": [
    "relationship_df_book_1 = pd.DataFrame(np.sort(relationship_df_book_1.values, axis=1), columns = relationship_df_book_1.columns)\n",
    "relationship_df_book_1"
   ]
  },
  {
   "cell_type": "markdown",
   "id": "ec432ec6",
   "metadata": {},
   "source": [
    "Let us assume that each relation two entities have with each other is of a certain value (say 1). Hence the more the number of relations, the stronger the relationship is. Let us have this value as the weight of the relationship."
   ]
  },
  {
   "cell_type": "code",
   "execution_count": 25,
   "id": "3d9ce8ef",
   "metadata": {},
   "outputs": [
    {
     "data": {
      "text/html": [
       "<div>\n",
       "<style scoped>\n",
       "    .dataframe tbody tr th:only-of-type {\n",
       "        vertical-align: middle;\n",
       "    }\n",
       "\n",
       "    .dataframe tbody tr th {\n",
       "        vertical-align: top;\n",
       "    }\n",
       "\n",
       "    .dataframe thead th {\n",
       "        text-align: right;\n",
       "    }\n",
       "</style>\n",
       "<table border=\"1\" class=\"dataframe\">\n",
       "  <thead>\n",
       "    <tr style=\"text-align: right;\">\n",
       "      <th></th>\n",
       "      <th>source</th>\n",
       "      <th>target</th>\n",
       "      <th>value</th>\n",
       "    </tr>\n",
       "  </thead>\n",
       "  <tbody>\n",
       "    <tr>\n",
       "      <th>0</th>\n",
       "      <td>Titan</td>\n",
       "      <td>Zeus</td>\n",
       "      <td>25</td>\n",
       "    </tr>\n",
       "    <tr>\n",
       "      <th>1</th>\n",
       "      <td>Nancy</td>\n",
       "      <td>Zeus</td>\n",
       "      <td>2</td>\n",
       "    </tr>\n",
       "    <tr>\n",
       "      <th>2</th>\n",
       "      <td>Grover</td>\n",
       "      <td>Nancy</td>\n",
       "      <td>6</td>\n",
       "    </tr>\n",
       "    <tr>\n",
       "      <th>3</th>\n",
       "      <td>Nancy</td>\n",
       "      <td>Percy</td>\n",
       "      <td>8</td>\n",
       "    </tr>\n",
       "    <tr>\n",
       "      <th>4</th>\n",
       "      <td>Charon</td>\n",
       "      <td>Chiron</td>\n",
       "      <td>6</td>\n",
       "    </tr>\n",
       "    <tr>\n",
       "      <th>...</th>\n",
       "      <td>...</td>\n",
       "      <td>...</td>\n",
       "      <td>...</td>\n",
       "    </tr>\n",
       "    <tr>\n",
       "      <th>147</th>\n",
       "      <td>Artemis</td>\n",
       "      <td>Zeus</td>\n",
       "      <td>6</td>\n",
       "    </tr>\n",
       "    <tr>\n",
       "      <th>148</th>\n",
       "      <td>Apollo</td>\n",
       "      <td>Artemis</td>\n",
       "      <td>6</td>\n",
       "    </tr>\n",
       "    <tr>\n",
       "      <th>149</th>\n",
       "      <td>Percy</td>\n",
       "      <td>Tartarus</td>\n",
       "      <td>6</td>\n",
       "    </tr>\n",
       "    <tr>\n",
       "      <th>150</th>\n",
       "      <td>Poseidon</td>\n",
       "      <td>Thalia</td>\n",
       "      <td>1</td>\n",
       "    </tr>\n",
       "    <tr>\n",
       "      <th>151</th>\n",
       "      <td>Hermes</td>\n",
       "      <td>Travis</td>\n",
       "      <td>6</td>\n",
       "    </tr>\n",
       "  </tbody>\n",
       "</table>\n",
       "<p>152 rows × 3 columns</p>\n",
       "</div>"
      ],
      "text/plain": [
       "       source    target  value\n",
       "0       Titan      Zeus     25\n",
       "1       Nancy      Zeus      2\n",
       "2      Grover     Nancy      6\n",
       "3       Nancy     Percy      8\n",
       "4      Charon    Chiron      6\n",
       "..        ...       ...    ...\n",
       "147   Artemis      Zeus      6\n",
       "148    Apollo   Artemis      6\n",
       "149     Percy  Tartarus      6\n",
       "150  Poseidon    Thalia      1\n",
       "151    Hermes    Travis      6\n",
       "\n",
       "[152 rows x 3 columns]"
      ]
     },
     "execution_count": 25,
     "metadata": {},
     "output_type": "execute_result"
    }
   ],
   "source": [
    "relationship_df_book_1['value'] = 1\n",
    "relationship_df_book_1 = relationship_df_book_1.groupby(['source', 'target'], sort=False, as_index=False).sum()\n",
    "\n",
    "relationship_df_book_1"
   ]
  },
  {
   "cell_type": "markdown",
   "id": "d2d11899",
   "metadata": {},
   "source": [
    "We have created a dataframe of all the relationships in Book 1 and the \"weight\" of each relationship. Now we can visualize this dataframe as a graph."
   ]
  },
  {
   "cell_type": "markdown",
   "id": "00c34bf9",
   "metadata": {},
   "source": [
    "## Graph visualization\n",
    "\n",
    "Let us start off by using the graph visualization tool from networkx, and then use Pyvis to improve on it. "
   ]
  },
  {
   "cell_type": "code",
   "execution_count": 26,
   "id": "86ce3d4b",
   "metadata": {},
   "outputs": [],
   "source": [
    "#list to store all 5 graphs\n",
    "\n",
    "books_graphs = []"
   ]
  },
  {
   "cell_type": "code",
   "execution_count": 27,
   "id": "23c23eee",
   "metadata": {},
   "outputs": [],
   "source": [
    "G_1 = nx.from_pandas_edgelist(relationship_df_book_1,\n",
    "                            source = 'source',\n",
    "                            target = 'target',\n",
    "                            edge_attr = 'value',\n",
    "                            create_using = nx.Graph())\n",
    "books_graphs.append(G_1)"
   ]
  },
  {
   "cell_type": "code",
   "execution_count": 28,
   "id": "c8c8c651",
   "metadata": {},
   "outputs": [
    {
     "data": {
      "image/png": "[encoded data removed]",
      "text/plain": [
       "<Figure size 720x720 with 1 Axes>"
      ]
     },
     "metadata": {},
     "output_type": "display_data"
    }
   ],
   "source": [
    "plt.figure(figsize=(10,10))\n",
    "pos = nx.kamada_kawai_layout(G_1)\n",
    "nx.draw(G_1, with_labels=True, node_color='skyblue', edge_cmap=plt.cm.Blues, pos = pos)\n",
    "plt.show()"
   ]
  },
  {
   "cell_type": "markdown",
   "id": "7d03b53a",
   "metadata": {},
   "source": [
    "The above graph shows the relationships between the characters, but is not easy to analyze as it isn't very intuitive. We can use Pyvis to create a better visualization for the graph."
   ]
  },
  {
   "cell_type": "code",
   "execution_count": 29,
   "id": "5b323208",
   "metadata": {
    "scrolled": false
   },
   "outputs": [
    {
     "data": {
      "text/html": [
       "\n",
       "        <iframe\n",
       "            width=\"1000px\"\n",
       "            height=\"700px\"\n",
       "            src=\"relationships.html\"\n",
       "            frameborder=\"0\"\n",
       "            allowfullscreen\n",
       "            \n",
       "        ></iframe>\n",
       "        "
      ],
      "text/plain": [
       "<IPython.lib.display.IFrame at 0x2831f6c9b80>"
      ]
     },
     "execution_count": 29,
     "metadata": {},
     "output_type": "execute_result"
    }
   ],
   "source": [
    "network = Network(notebook = True, width = '1000px', height = '700px', bgcolor = '#222222', font_color = 'white')\n",
    "node_degree = dict(G_1.degree)\n",
    "nx.set_node_attributes(G_1, node_degree, 'size')\n",
    "\n",
    "network.from_nx(G_1)\n",
    "\n",
    "network.save_graph('Graphs/relationships.html')\n",
    "network.show('relationships.html')"
   ]
  },
  {
   "cell_type": "markdown",
   "id": "a3933139",
   "metadata": {},
   "source": [
    "From this graph, we can extract information such as the more important characters (as denoted by larger nodes), and the importance of relationships between characters (as denoted by the thickness, or weight of the edge)."
   ]
  },
  {
   "cell_type": "markdown",
   "id": "2ee37aee",
   "metadata": {},
   "source": [
    "We can further visualize the importance of the characters over the course of the book by using centrality measures. The measures we shall visualize shall be:\n",
    "* __Degree Centrality__: The measure of the number of incoming and outgoing edges to a node. Higher the degree centrality, the more relationships the node has with other nodes.\n",
    "* __Betweenness Centrality__: The measure of the amount of influence a node has over the flow of information in a graph. Nodes that more frequently lie on shortest paths between other nodes will have higher betweenness centrality scores.\n",
    "* __Closeness Centrality__: The measure of average inverse distance to all other nodes. Higher closeness centrality implies the node has a shorter distance from other nodes."
   ]
  },
  {
   "cell_type": "code",
   "execution_count": 30,
   "id": "8b27af12",
   "metadata": {},
   "outputs": [],
   "source": [
    "#degree centrality\n",
    "degree_dict = nx.degree_centrality(G_1)\n",
    "degree_df = pd.DataFrame.from_dict(degree_dict, orient='index', columns=['centrality'])\n",
    "degree_dict = dict(sorted(degree_dict.items(), key = lambda item : item[1], reverse=True))\n",
    "degree_dict_10 = dict(list(degree_dict.items())[0:10])\n",
    "\n",
    "\n",
    "#betweenness centrality\n",
    "between_dict = nx.betweenness_centrality(G_1)\n",
    "between_df = pd.DataFrame.from_dict(between_dict, orient='index', columns=['centrality'])\n",
    "between_dict = dict(sorted(between_dict.items(), key = lambda item : item[1], reverse=True))\n",
    "between_dict_10 = dict(list(between_dict.items())[0:10])\n",
    "\n",
    "#closeness centrality\n",
    "closeness_dict = nx.closeness_centrality(G_1)\n",
    "closeness_df = pd.DataFrame.from_dict(closeness_dict, orient='index', columns=['centrality'])\n",
    "closeness_dict = dict(sorted(closeness_dict.items(), key = lambda item : item[1], reverse=True))\n",
    "closeness_dict_10 = dict(list(closeness_dict.items())[0:10])"
   ]
  },
  {
   "cell_type": "code",
   "execution_count": 31,
   "id": "1763157b",
   "metadata": {
    "scrolled": false
   },
   "outputs": [
    {
     "data": {
      "text/plain": [
       "Text(0.5, 1.0, 'Closeness Centrality')"
      ]
     },
     "execution_count": 31,
     "metadata": {},
     "output_type": "execute_result"
    },
    {
     "data": {
      "image/png": "[encoded data removed]",
      "text/plain": [
       "<Figure size 1080x432 with 3 Axes>"
      ]
     },
     "metadata": {
      "needs_background": "light"
     },
     "output_type": "display_data"
    }
   ],
   "source": [
    "#plotting the top 10 nodes for each centrality\n",
    "\n",
    "fig, ax = plt.subplots(1, 3, figsize=(15, 6))\n",
    "\n",
    "# ax[0].figure(figsize=(6,6))\n",
    "X_degree = degree_dict_10.keys()\n",
    "Y_degree = degree_dict_10.values()\n",
    "ax[0].plot(X_degree, Y_degree, 'r')\n",
    "ax[0].bar(X_degree, Y_degree)\n",
    "ax[0].tick_params(axis='x', labelrotation=90)\n",
    "ax[0].set_title('Degree Centrality')\n",
    "# plt.show()\n",
    "\n",
    "\n",
    "# ax[1].figure(figsize=(6,6))\n",
    "X_between = between_dict_10.keys()\n",
    "Y_between = between_dict_10.values()\n",
    "ax[1].plot(X_between, Y_between, 'r')\n",
    "ax[1].bar(X_between, Y_between)\n",
    "ax[1].tick_params(axis='x', labelrotation=90)\n",
    "ax[1].set_title('Betweenness Centrality')\n",
    "# plt.show()\n",
    "\n",
    "\n",
    "# ax[2].figure(figsize=(6,6))\n",
    "X_closeness = closeness_dict_10.keys()\n",
    "Y_closeness = closeness_dict_10.values()\n",
    "ax[2].plot(X_closeness, Y_closeness, 'r')\n",
    "ax[2].bar(X_closeness, Y_closeness)\n",
    "ax[2].tick_params(axis='x', labelrotation=90)\n",
    "ax[2].set_title('Closeness Centrality')\n",
    "# plt.show()"
   ]
  },
  {
   "cell_type": "markdown",
   "id": "da432573",
   "metadata": {},
   "source": [
    "Here we can see that the main characters of the book are relatively the same across the three measures. Some insights that we can extract from these graphs:\n",
    "\n",
    "* The importance of the main 10 characters decreases steadily.\n",
    "* The character with the highest betweenness centrality is Percy, implying that he is the character through which the most information is passed through to the other characters. Even the second highest character Chiron has a significantly lower betweeness centrality in comparision.\n",
    "* The main 10 characters by closeness centrality all have high measures, indicating that the information amongst each of them travels fast, and from the graph visualized above, we can say that their induvidual networks are highly dense.\n",
    "\n",
    "From these insights, we can understand that there will be certain communities within the entire graph of the characters. Let us try to visualize how these communities interact with each other."
   ]
  },
  {
   "cell_type": "markdown",
   "id": "ee267aa7",
   "metadata": {},
   "source": [
    "## Community Detection"
   ]
  },
  {
   "cell_type": "code",
   "execution_count": 32,
   "id": "80ef799a",
   "metadata": {
    "scrolled": true
   },
   "outputs": [
    {
     "data": {
      "text/plain": [
       "{'Titan': 1,\n",
       " 'Zeus': 1,\n",
       " 'Nancy': 4,\n",
       " 'Grover': 4,\n",
       " 'Percy': 0,\n",
       " 'Charon': 4,\n",
       " 'Chiron': 4,\n",
       " 'Gabe': 0,\n",
       " 'Sally': 0,\n",
       " 'Minotaur': 4,\n",
       " 'Annabeth': 3,\n",
       " 'Olympians': 4,\n",
       " 'Hera': 1,\n",
       " 'Hercules': 4,\n",
       " 'Hermes': 3,\n",
       " 'Clarisse': 4,\n",
       " 'Oracle': 4,\n",
       " 'Luke': 4,\n",
       " 'Athena': 1,\n",
       " 'Poseidon': 1,\n",
       " 'Ares': 4,\n",
       " 'Apollo': 1,\n",
       " 'Hephaestus': 3,\n",
       " 'Hades': 4,\n",
       " 'Thalia': 1,\n",
       " 'Demeter': 1,\n",
       " 'Aphrodite': 1,\n",
       " 'Big': 1,\n",
       " 'Kronos': 1,\n",
       " 'Fates': 0,\n",
       " 'Medusa': 3,\n",
       " 'Pan': 0,\n",
       " 'Gladiola': 0,\n",
       " 'East': 0,\n",
       " 'Chimera': 1,\n",
       " 'Echidna': 1,\n",
       " 'Artemis': 1,\n",
       " 'Eddie': 2,\n",
       " 'Maurice': 2,\n",
       " 'Furies': 4,\n",
       " 'Nereid': 0,\n",
       " 'Barbara': 0,\n",
       " 'Cerberus': 3,\n",
       " 'Tartarus': 0,\n",
       " 'Travis': 3}"
      ]
     },
     "execution_count": 32,
     "metadata": {},
     "output_type": "execute_result"
    }
   ],
   "source": [
    "communities = community_louvain.best_partition(G_1, random_state=99)\n",
    "communities"
   ]
  },
  {
   "cell_type": "code",
   "execution_count": 33,
   "id": "185a5757",
   "metadata": {},
   "outputs": [],
   "source": [
    "nx.set_node_attributes(G_1, communities, 'group')"
   ]
  },
  {
   "cell_type": "code",
   "execution_count": 34,
   "id": "da1f8318",
   "metadata": {
    "scrolled": false
   },
   "outputs": [
    {
     "data": {
      "text/html": [
       "\n",
       "        <iframe\n",
       "            width=\"1000px\"\n",
       "            height=\"700px\"\n",
       "            src=\"Graphs/Community_relationships_1.html\"\n",
       "            frameborder=\"0\"\n",
       "            allowfullscreen\n",
       "            \n",
       "        ></iframe>\n",
       "        "
      ],
      "text/plain": [
       "<IPython.lib.display.IFrame at 0x2831f88e5e0>"
      ]
     },
     "execution_count": 34,
     "metadata": {},
     "output_type": "execute_result"
    }
   ],
   "source": [
    "community_network = Network(notebook = True, width = '1000px', height = '700px', bgcolor = '#222222', font_color = 'white')\n",
    "community_network.from_nx(G_1)\n",
    "community_network.save_graph('Graphs/Community_relationships_1.html')\n",
    "\n",
    "community_network.show('Graphs/Community_relationships_1.html')"
   ]
  },
  {
   "cell_type": "markdown",
   "id": "90eb0f74",
   "metadata": {},
   "source": [
    "With this visualization, we can easily \"cluster\" the characters in the book and see which characters have a community of their own and how these communities interact with each other. From the above visualization we can see that there are a few main communities, specifically Red, Blue, Green and Yellow. \n",
    "\n",
    "Red being Percy's community makes sense as he is the protagonist of the book and definitely would have the highest relationships with other smaller characters.\n",
    "\n",
    "Blue being a community comprising of characters like Zeus and Poseidon also makes sense as these are all the \"Olympian Gods\". The members of this community interact with each other more often than interacting with the other characters of the book. \n",
    "\n",
    "Green being the community of Annabeth also is viable as she is arguably the second main protagonist of the book, helping Percy in his adventures. Thus she has her own connections, seperate from those of Percy's\n",
    "\n",
    "Finally, Yellow seems to be the comumnity of the other characters in Percy's camp. These seem to be the people that have a lower interaction with Percy over the course of the book, and tend to be mentioned quite less. "
   ]
  },
  {
   "cell_type": "markdown",
   "id": "bd23f536",
   "metadata": {},
   "source": [
    "## Books 2-5\n",
    "\n",
    "Now, lets create similar graphs for the remaining four books and see if we can find any patterns over all five books."
   ]
  },
  {
   "cell_type": "code",
   "execution_count": 35,
   "id": "95885b46",
   "metadata": {},
   "outputs": [],
   "source": [
    "book_doc_2 = create_book_doc(all_books, 1)\n",
    "book_doc_3 = create_book_doc(all_books, 2)\n",
    "book_doc_4 = create_book_doc(all_books, 3)\n",
    "book_doc_5 = create_book_doc(all_books, 4)"
   ]
  },
  {
   "cell_type": "code",
   "execution_count": 36,
   "id": "20c0acc4",
   "metadata": {},
   "outputs": [],
   "source": [
    "sentence_entity_df_book_2 = create_sentence_entity_df(book_doc_2)\n",
    "sentence_entity_df_book_3 = create_sentence_entity_df(book_doc_3)\n",
    "sentence_entity_df_book_4 = create_sentence_entity_df(book_doc_4)\n",
    "sentence_entity_df_book_5 = create_sentence_entity_df(book_doc_5)"
   ]
  },
  {
   "cell_type": "code",
   "execution_count": 37,
   "id": "f581d13f",
   "metadata": {},
   "outputs": [],
   "source": [
    "relationships_df_book_2 = create_relationship_df(sentence_entity_df_book_2)\n",
    "relationships_df_book_3 = create_relationship_df(sentence_entity_df_book_3)\n",
    "relationships_df_book_4 = create_relationship_df(sentence_entity_df_book_4)\n",
    "relationships_df_book_5 = create_relationship_df(sentence_entity_df_book_5)"
   ]
  },
  {
   "cell_type": "code",
   "execution_count": 38,
   "id": "2990045f",
   "metadata": {},
   "outputs": [],
   "source": [
    "relationships_df_book_2 = create_edgelist(relationships_df_book_2)\n",
    "relationships_df_book_3 = create_edgelist(relationships_df_book_3)\n",
    "relationships_df_book_4 = create_edgelist(relationships_df_book_4)\n",
    "relationships_df_book_5 = create_edgelist(relationships_df_book_5)"
   ]
  },
  {
   "cell_type": "markdown",
   "id": "9b6c5b05",
   "metadata": {},
   "source": [
    "#### Graph visualization for Book 2"
   ]
  },
  {
   "cell_type": "code",
   "execution_count": 39,
   "id": "b9175ff7",
   "metadata": {
    "scrolled": false
   },
   "outputs": [
    {
     "data": {
      "text/html": [
       "\n",
       "        <iframe\n",
       "            width=\"1000px\"\n",
       "            height=\"700px\"\n",
       "            src=\"Graphs/Community_relationships_2.html\"\n",
       "            frameborder=\"0\"\n",
       "            allowfullscreen\n",
       "            \n",
       "        ></iframe>\n",
       "        "
      ],
      "text/plain": [
       "<IPython.lib.display.IFrame at 0x2831f676e20>"
      ]
     },
     "execution_count": 39,
     "metadata": {},
     "output_type": "execute_result"
    }
   ],
   "source": [
    "community_network_book_2, G_2 = create_community_graph(relationships_df_book_2, 2)\n",
    "books_graphs.append(G_2)\n",
    "\n",
    "community_network_book_2.show('Graphs/Community_relationships_2.html')"
   ]
  },
  {
   "cell_type": "markdown",
   "id": "41073675",
   "metadata": {},
   "source": [
    "#### Graph visualization for Book 3"
   ]
  },
  {
   "cell_type": "code",
   "execution_count": 40,
   "id": "3e4ec58f",
   "metadata": {},
   "outputs": [
    {
     "data": {
      "text/html": [
       "\n",
       "        <iframe\n",
       "            width=\"1000px\"\n",
       "            height=\"700px\"\n",
       "            src=\"Graphs/Community_relationships_3.html\"\n",
       "            frameborder=\"0\"\n",
       "            allowfullscreen\n",
       "            \n",
       "        ></iframe>\n",
       "        "
      ],
      "text/plain": [
       "<IPython.lib.display.IFrame at 0x2832492b910>"
      ]
     },
     "execution_count": 40,
     "metadata": {},
     "output_type": "execute_result"
    }
   ],
   "source": [
    "community_network_book_3, G_3 = create_community_graph(relationships_df_book_3, 3)\n",
    "books_graphs.append(G_3)\n",
    "\n",
    "community_network_book_3.show('Graphs/Community_relationships_3.html')"
   ]
  },
  {
   "cell_type": "markdown",
   "id": "ac21d4c4",
   "metadata": {},
   "source": [
    "#### Graph visualization for Book 4"
   ]
  },
  {
   "cell_type": "code",
   "execution_count": 41,
   "id": "d1e0a0b3",
   "metadata": {},
   "outputs": [
    {
     "data": {
      "text/html": [
       "\n",
       "        <iframe\n",
       "            width=\"1000px\"\n",
       "            height=\"700px\"\n",
       "            src=\"Graphs/Community_relationships_4.html\"\n",
       "            frameborder=\"0\"\n",
       "            allowfullscreen\n",
       "            \n",
       "        ></iframe>\n",
       "        "
      ],
      "text/plain": [
       "<IPython.lib.display.IFrame at 0x2831f5d0880>"
      ]
     },
     "execution_count": 41,
     "metadata": {},
     "output_type": "execute_result"
    }
   ],
   "source": [
    "community_network_book_4, G_4 = create_community_graph(relationships_df_book_4, 4)\n",
    "books_graphs.append(G_4)\n",
    "\n",
    "community_network_book_4.show('Graphs/Community_relationships_4.html')"
   ]
  },
  {
   "cell_type": "markdown",
   "id": "aa97c70f",
   "metadata": {},
   "source": [
    "#### Graph visualization for Book 5"
   ]
  },
  {
   "cell_type": "code",
   "execution_count": 42,
   "id": "eead73e9",
   "metadata": {},
   "outputs": [
    {
     "data": {
      "text/html": [
       "\n",
       "        <iframe\n",
       "            width=\"1000px\"\n",
       "            height=\"700px\"\n",
       "            src=\"Graphs/Community_relationships_5.html\"\n",
       "            frameborder=\"0\"\n",
       "            allowfullscreen\n",
       "            \n",
       "        ></iframe>\n",
       "        "
      ],
      "text/plain": [
       "<IPython.lib.display.IFrame at 0x2831f6896a0>"
      ]
     },
     "execution_count": 42,
     "metadata": {},
     "output_type": "execute_result"
    }
   ],
   "source": [
    "community_network_book_5, G_5 = create_community_graph(relationships_df_book_5, 5)\n",
    "books_graphs.append(G_5)\n",
    "community_network_book_5.repulsion()                                   #added because the physics engine was going crazy\n",
    "\n",
    "community_network_book_5.show('Graphs/Community_relationships_5.html')"
   ]
  },
  {
   "cell_type": "markdown",
   "id": "09bd3900",
   "metadata": {},
   "source": [
    "Let us see some trends of the main characters that can be extracted from these graphs."
   ]
  },
  {
   "cell_type": "code",
   "execution_count": 43,
   "id": "ad3b579c",
   "metadata": {},
   "outputs": [
    {
     "data": {
      "text/plain": [
       "[<networkx.classes.graph.Graph at 0x283028872b0>,\n",
       " <networkx.classes.graph.Graph at 0x2831f5f3d90>,\n",
       " <networkx.classes.graph.Graph at 0x2832492bd00>,\n",
       " <networkx.classes.graph.Graph at 0x2832492b1f0>,\n",
       " <networkx.classes.graph.Graph at 0x2831f5d0760>]"
      ]
     },
     "execution_count": 43,
     "metadata": {},
     "output_type": "execute_result"
    }
   ],
   "source": [
    "books_graphs\n"
   ]
  },
  {
   "cell_type": "code",
   "execution_count": 44,
   "id": "dc4cbe6d",
   "metadata": {},
   "outputs": [
    {
     "data": {
      "text/html": [
       "<div>\n",
       "<style scoped>\n",
       "    .dataframe tbody tr th:only-of-type {\n",
       "        vertical-align: middle;\n",
       "    }\n",
       "\n",
       "    .dataframe tbody tr th {\n",
       "        vertical-align: top;\n",
       "    }\n",
       "\n",
       "    .dataframe thead th {\n",
       "        text-align: right;\n",
       "    }\n",
       "</style>\n",
       "<table border=\"1\" class=\"dataframe\">\n",
       "  <thead>\n",
       "    <tr style=\"text-align: right;\">\n",
       "      <th></th>\n",
       "      <th>Titan</th>\n",
       "      <th>Zeus</th>\n",
       "      <th>Nancy</th>\n",
       "      <th>Grover</th>\n",
       "      <th>Percy</th>\n",
       "      <th>Charon</th>\n",
       "      <th>Chiron</th>\n",
       "      <th>Gabe</th>\n",
       "      <th>Sally</th>\n",
       "      <th>Minotaur</th>\n",
       "      <th>...</th>\n",
       "      <th>Elpis</th>\n",
       "      <th>Morrain</th>\n",
       "      <th>Hyperion</th>\n",
       "      <th>Hyperborean</th>\n",
       "      <th>Larry</th>\n",
       "      <th>Owen</th>\n",
       "      <th>Bobby</th>\n",
       "      <th>Lydian</th>\n",
       "      <th>Party</th>\n",
       "      <th>Hunters</th>\n",
       "    </tr>\n",
       "  </thead>\n",
       "  <tbody>\n",
       "    <tr>\n",
       "      <th>0</th>\n",
       "      <td>0.045455</td>\n",
       "      <td>0.454545</td>\n",
       "      <td>0.113636</td>\n",
       "      <td>0.227273</td>\n",
       "      <td>0.750000</td>\n",
       "      <td>0.113636</td>\n",
       "      <td>0.545455</td>\n",
       "      <td>0.204545</td>\n",
       "      <td>0.045455</td>\n",
       "      <td>0.181818</td>\n",
       "      <td>...</td>\n",
       "      <td>NaN</td>\n",
       "      <td>NaN</td>\n",
       "      <td>NaN</td>\n",
       "      <td>NaN</td>\n",
       "      <td>NaN</td>\n",
       "      <td>NaN</td>\n",
       "      <td>NaN</td>\n",
       "      <td>NaN</td>\n",
       "      <td>NaN</td>\n",
       "      <td>NaN</td>\n",
       "    </tr>\n",
       "    <tr>\n",
       "      <th>1</th>\n",
       "      <td>NaN</td>\n",
       "      <td>0.189655</td>\n",
       "      <td>NaN</td>\n",
       "      <td>0.086207</td>\n",
       "      <td>0.500000</td>\n",
       "      <td>NaN</td>\n",
       "      <td>0.275862</td>\n",
       "      <td>NaN</td>\n",
       "      <td>NaN</td>\n",
       "      <td>NaN</td>\n",
       "      <td>...</td>\n",
       "      <td>NaN</td>\n",
       "      <td>NaN</td>\n",
       "      <td>NaN</td>\n",
       "      <td>NaN</td>\n",
       "      <td>NaN</td>\n",
       "      <td>NaN</td>\n",
       "      <td>NaN</td>\n",
       "      <td>NaN</td>\n",
       "      <td>NaN</td>\n",
       "      <td>NaN</td>\n",
       "    </tr>\n",
       "    <tr>\n",
       "      <th>2</th>\n",
       "      <td>0.176471</td>\n",
       "      <td>0.392157</td>\n",
       "      <td>NaN</td>\n",
       "      <td>0.137255</td>\n",
       "      <td>0.372549</td>\n",
       "      <td>NaN</td>\n",
       "      <td>0.470588</td>\n",
       "      <td>0.039216</td>\n",
       "      <td>0.039216</td>\n",
       "      <td>0.019608</td>\n",
       "      <td>...</td>\n",
       "      <td>NaN</td>\n",
       "      <td>NaN</td>\n",
       "      <td>NaN</td>\n",
       "      <td>NaN</td>\n",
       "      <td>NaN</td>\n",
       "      <td>NaN</td>\n",
       "      <td>NaN</td>\n",
       "      <td>NaN</td>\n",
       "      <td>NaN</td>\n",
       "      <td>NaN</td>\n",
       "    </tr>\n",
       "    <tr>\n",
       "      <th>3</th>\n",
       "      <td>0.126761</td>\n",
       "      <td>0.140845</td>\n",
       "      <td>NaN</td>\n",
       "      <td>0.042254</td>\n",
       "      <td>0.309859</td>\n",
       "      <td>NaN</td>\n",
       "      <td>0.408451</td>\n",
       "      <td>NaN</td>\n",
       "      <td>0.028169</td>\n",
       "      <td>0.014085</td>\n",
       "      <td>...</td>\n",
       "      <td>NaN</td>\n",
       "      <td>NaN</td>\n",
       "      <td>NaN</td>\n",
       "      <td>NaN</td>\n",
       "      <td>NaN</td>\n",
       "      <td>NaN</td>\n",
       "      <td>NaN</td>\n",
       "      <td>NaN</td>\n",
       "      <td>NaN</td>\n",
       "      <td>NaN</td>\n",
       "    </tr>\n",
       "    <tr>\n",
       "      <th>4</th>\n",
       "      <td>0.296703</td>\n",
       "      <td>0.263736</td>\n",
       "      <td>NaN</td>\n",
       "      <td>0.054945</td>\n",
       "      <td>0.450549</td>\n",
       "      <td>0.010989</td>\n",
       "      <td>0.318681</td>\n",
       "      <td>NaN</td>\n",
       "      <td>0.010989</td>\n",
       "      <td>0.043956</td>\n",
       "      <td>...</td>\n",
       "      <td>0.010989</td>\n",
       "      <td>0.010989</td>\n",
       "      <td>0.032967</td>\n",
       "      <td>0.032967</td>\n",
       "      <td>0.021978</td>\n",
       "      <td>0.010989</td>\n",
       "      <td>0.010989</td>\n",
       "      <td>0.010989</td>\n",
       "      <td>0.021978</td>\n",
       "      <td>0.021978</td>\n",
       "    </tr>\n",
       "  </tbody>\n",
       "</table>\n",
       "<p>5 rows × 147 columns</p>\n",
       "</div>"
      ],
      "text/plain": [
       "      Titan      Zeus     Nancy    Grover     Percy    Charon    Chiron  \\\n",
       "0  0.045455  0.454545  0.113636  0.227273  0.750000  0.113636  0.545455   \n",
       "1       NaN  0.189655       NaN  0.086207  0.500000       NaN  0.275862   \n",
       "2  0.176471  0.392157       NaN  0.137255  0.372549       NaN  0.470588   \n",
       "3  0.126761  0.140845       NaN  0.042254  0.309859       NaN  0.408451   \n",
       "4  0.296703  0.263736       NaN  0.054945  0.450549  0.010989  0.318681   \n",
       "\n",
       "       Gabe     Sally  Minotaur  ...     Elpis   Morrain  Hyperion  \\\n",
       "0  0.204545  0.045455  0.181818  ...       NaN       NaN       NaN   \n",
       "1       NaN       NaN       NaN  ...       NaN       NaN       NaN   \n",
       "2  0.039216  0.039216  0.019608  ...       NaN       NaN       NaN   \n",
       "3       NaN  0.028169  0.014085  ...       NaN       NaN       NaN   \n",
       "4       NaN  0.010989  0.043956  ...  0.010989  0.010989  0.032967   \n",
       "\n",
       "   Hyperborean     Larry      Owen     Bobby    Lydian     Party   Hunters  \n",
       "0          NaN       NaN       NaN       NaN       NaN       NaN       NaN  \n",
       "1          NaN       NaN       NaN       NaN       NaN       NaN       NaN  \n",
       "2          NaN       NaN       NaN       NaN       NaN       NaN       NaN  \n",
       "3          NaN       NaN       NaN       NaN       NaN       NaN       NaN  \n",
       "4     0.032967  0.021978  0.010989  0.010989  0.010989  0.021978  0.021978  \n",
       "\n",
       "[5 rows x 147 columns]"
      ]
     },
     "execution_count": 44,
     "metadata": {},
     "output_type": "execute_result"
    }
   ],
   "source": [
    "degs = [nx.degree_centrality(graph) for graph in books_graphs]\n",
    "degs_df = pd.DataFrame(degs)\n",
    "\n",
    "\n",
    "degs_df"
   ]
  },
  {
   "cell_type": "code",
   "execution_count": 45,
   "id": "dab47741",
   "metadata": {},
   "outputs": [
    {
     "data": {
      "text/plain": [
       "<AxesSubplot:>"
      ]
     },
     "execution_count": 45,
     "metadata": {},
     "output_type": "execute_result"
    },
    {
     "data": {
      "image/png": "[encoded data removed]",
      "text/plain": [
       "<Figure size 432x288 with 1 Axes>"
      ]
     },
     "metadata": {
      "needs_background": "light"
     },
     "output_type": "display_data"
    }
   ],
   "source": [
    "degs_df[['Percy', 'Annabeth', 'Grover', 'Chiron']].plot()"
   ]
  },
  {
   "cell_type": "markdown",
   "id": "385f1679",
   "metadata": {},
   "source": [
    "Some interesting trends to point out here:\n",
    "* As expected, Percy had the highest degree centrality at the start and end of the 5 books. However in book 3 and 4, Chiron seems to have overtaken in degree centrality. This indicates that Chiron's character had more interactions with characters in those books compared to Percy.\n",
    "* Annabeth's degree centrality seems to be relatively constant throughout the 5 books, only peaking in book 2. Thus a strong assumption could be that her character had more interactions in book 2 compared to the remaining.\n",
    "* One would assume that Grover, who is supposed to be Percy's sidekick, would have a higher degree centrality, but from the above graph it is evident that he doesn't have much of a role in the series. "
   ]
  },
  {
   "cell_type": "markdown",
   "id": "ef6f1ffd",
   "metadata": {},
   "source": [
    "In conclusion, we can see how the community graph visualizations can show us interesting patterns and bring up key points to check for to further showcase trends in the characters of the 5 book series. This notebook serves to show how such visualizations can be useful."
   ]
  }
 ],
 "metadata": {
  "kernelspec": {
   "display_name": "Python 3 (ipykernel)",
   "language": "python",
   "name": "python3"
  },
  "language_info": {
   "codemirror_mode": {
    "name": "ipython",
    "version": 3
   },
   "file_extension": ".py",
   "mimetype": "text/x-python",
   "name": "python",
   "nbconvert_exporter": "python",
   "pygments_lexer": "ipython3",
   "version": "3.9.12"
  }
 },
 "nbformat": 4,
 "nbformat_minor": 5
}
